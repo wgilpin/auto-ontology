{
 "cells": [
  {
   "cell_type": "markdown",
   "metadata": {},
   "source": [
    "# [How to do Unsupervised Clustering with Keras](https://www.dlology.com/blog/how-to-do-unsupervised-clustering-with-keras/) | DLology\n",
    "\n",
    "Read my blog post for details."
   ]
  },
  {
   "cell_type": "code",
   "execution_count": 1,
   "metadata": {},
   "outputs": [],
   "source": [
    "import tensorflow as tf\n",
    "from tensorflow import keras\n",
    "import tensorflow.keras.backend as K\n",
    "from keras.datasets import mnist\n",
    "import numpy as np\n",
    "np.random.seed(10)\n",
    "from time import time\n",
    "from keras.layers import Layer, InputSpec\n",
    "from keras.layers import Dense, Input\n",
    "from keras.models import Model\n",
    "from keras.optimizers import SGD\n",
    "from keras import callbacks\n",
    "from keras.initializers import VarianceScaling\n",
    "from sklearn.cluster import KMeans\n",
    "import numpy as np\n",
    "import matplotlib.pyplot as plt\n",
    "import pandas as pd\n",
    "import metrics\n"
   ]
  },
  {
   "cell_type": "code",
   "execution_count": 3,
   "metadata": {},
   "outputs": [],
   "source": [
    "\n",
    "def autoencoder_model(dims, act='relu', init='glorot_uniform'):\n",
    "    \"\"\"\n",
    "    Fully connected auto-encoder model, symmetric.\n",
    "    Arguments:\n",
    "        dims: list of number of units in each layer of encoder. dims[0] is input dim, dims[-1] is units in hidden layer.\n",
    "            The decoder is symmetric with encoder. So number of layers of the auto-encoder is 2*len(dims)-1\n",
    "        act: activation, not applied to Input, Hidden and Output layers\n",
    "    return:\n",
    "        (ae_model, encoder_model), Model of autoencoder and model of encoder\n",
    "    \"\"\"\n",
    "    n_stacks = len(dims) - 1\n",
    "    # input\n",
    "    input_img = Input(shape=(dims[0],), name='input')\n",
    "    x = input_img\n",
    "    # internal layers in encoder\n",
    "    for i in range(n_stacks-1):\n",
    "        x = Dense(dims[i + 1], activation=act, kernel_initializer=init, name='encoder_%d' % i)(x)\n",
    "\n",
    "    # hidden layer\n",
    "    encoded = Dense(dims[-1], kernel_initializer=init, name='encoder_%d' % (n_stacks - 1))(x)  # hidden layer, features are extracted from here\n",
    "\n",
    "    x = encoded\n",
    "    # internal layers in decoder\n",
    "    for i in range(n_stacks-1, 0, -1):\n",
    "        x = Dense(dims[i], activation=act, kernel_initializer=init, name='decoder_%d' % i)(x)\n",
    "\n",
    "    # output\n",
    "    x = Dense(dims[0], kernel_initializer=init, name='decoder_0')(x)\n",
    "    decoded = x\n",
    "    return Model(inputs=input_img, outputs=decoded, name='AE'), Model(inputs=input_img, outputs=encoded, name='encoder')\n"
   ]
  },
  {
   "cell_type": "code",
   "execution_count": 5,
   "metadata": {},
   "outputs": [
    {
     "name": "stdout",
     "output_type": "stream",
     "text": [
      "Loading ./data/conll_spacy_10000.pkl\n",
      "Done: (10074, 772)\n",
      "{1: 'ORG', 0: 'PERSON', 2: 'GPE', 3: 'LOC'}\n",
      "x: (13892, 768), y: (13892,)\n"
     ]
    }
   ],
   "source": [
    "from data import load_data\n",
    "\n",
    "x, y, mapping = load_data(10000)"
   ]
  },
  {
   "cell_type": "code",
   "execution_count": 6,
   "metadata": {},
   "outputs": [
    {
     "name": "stdout",
     "output_type": "stream",
     "text": [
      "X: (13892, 768), clusters: 4\n"
     ]
    }
   ],
   "source": [
    "n_clusters = len(np.unique(y))\n",
    "print(f\"X: {x.shape}, clusters: {n_clusters}\")"
   ]
  },
  {
   "cell_type": "markdown",
   "metadata": {},
   "source": [
    "## Base line K-Means clustering accuracy"
   ]
  },
  {
   "cell_type": "code",
   "execution_count": 7,
   "metadata": {},
   "outputs": [],
   "source": [
    "import numpy as np\n",
    "from sklearn.metrics import normalized_mutual_info_score, adjusted_rand_score\n",
    "from scipy.optimize import linear_sum_assignment\n",
    "\n",
    "nmi = normalized_mutual_info_score\n",
    "ari = adjusted_rand_score\n",
    "\n",
    "\n",
    "def acc(y_true, y_pred):\n",
    "    \"\"\"\n",
    "    Calculate clustering accuracy. Require scikit-learn installed\n",
    "\n",
    "    # Arguments\n",
    "        y: true labels, numpy.array with shape `(n_samples,)`\n",
    "        y_pred: predicted labels, numpy.array with shape `(n_samples,)`\n",
    "\n",
    "    # Return\n",
    "        accuracy, in [0,1]\n",
    "    \"\"\"\n",
    "    y_true = y_true.astype(np.int64)\n",
    "    assert y_pred.size == y_true.size\n",
    "    D = max(y_pred.max(), y_true.max()) + 1\n",
    "    w = np.zeros((D, D), dtype=np.int64)\n",
    "    for i in range(y_pred.size):\n",
    "        w[y_pred[i], y_true[i]] += 1\n",
    "    ind = linear_sum_assignment(w.max() - w)\n",
    "    res = sum([w[i, j] for i, j in ind]) * 1.0 / y_pred.size\n",
    "    return res"
   ]
  },
  {
   "cell_type": "code",
   "execution_count": 18,
   "metadata": {},
   "outputs": [],
   "source": [
    "kmeans = KMeans(n_clusters=n_clusters, n_init=20)\n",
    "y_pred_kmeans = kmeans.fit_predict(x)"
   ]
  },
  {
   "cell_type": "code",
   "execution_count": 19,
   "metadata": {},
   "outputs": [
    {
     "name": "stdout",
     "output_type": "stream",
     "text": [
      "acc: 0.37446012093291103)\n",
      "NMI: 0.05867710056067443\n",
      "AMI: 0.058452911358412206\n"
     ]
    }
   ],
   "source": [
    "from sklearn.metrics.cluster import normalized_mutual_info_score, adjusted_mutual_info_score\n",
    "print(f\"acc: {metrics.acc(y, y_pred_kmeans)})\")\n",
    "print(f\"NMI: {normalized_mutual_info_score(y, y_pred_kmeans)}\")\n",
    "print(f\"AMI: {adjusted_mutual_info_score(y, y_pred_kmeans)}\")"
   ]
  },
  {
   "cell_type": "markdown",
   "metadata": {},
   "source": [
    "## Hyper-params"
   ]
  },
  {
   "cell_type": "code",
   "execution_count": 12,
   "metadata": {},
   "outputs": [],
   "source": [
    "dims = [x.shape[-1], 500, 500, 2000, 50]\n",
    "init = VarianceScaling(scale=1. / 3., mode='fan_in',\n",
    "                           distribution='uniform')\n",
    "pretrain_optimizer = SGD(lr=1, momentum=0.9)\n",
    "pretrain_epochs = 1000\n",
    "batch_size = 256\n",
    "save_dir = './results'"
   ]
  },
  {
   "cell_type": "code",
   "execution_count": 13,
   "metadata": {},
   "outputs": [],
   "source": [
    "autoencoder, encoder = autoencoder_model(dims, init=init)"
   ]
  },
  {
   "cell_type": "code",
   "execution_count": 14,
   "metadata": {},
   "outputs": [],
   "source": [
    "from keras.utils import plot_model\n",
    "plot_model(autoencoder, to_file='autoencoder.png', show_shapes=True)\n",
    "from IPython.display import Image\n",
    "# Image(filename='autoencoder.png') "
   ]
  },
  {
   "cell_type": "code",
   "execution_count": 15,
   "metadata": {},
   "outputs": [],
   "source": [
    "from keras.utils import plot_model\n",
    "plot_model(encoder, to_file='encoder.png', show_shapes=True)\n",
    "from IPython.display import Image\n",
    "# Image(filename='encoder.png') "
   ]
  },
  {
   "cell_type": "markdown",
   "metadata": {},
   "source": [
    "## Pretrain auto-encoder"
   ]
  },
  {
   "cell_type": "code",
   "execution_count": 16,
   "metadata": {
    "scrolled": true
   },
   "outputs": [
    {
     "name": "stdout",
     "output_type": "stream",
     "text": [
      "Epoch 1/1000\n",
      "55/55 [==============================] - 1s 6ms/step - loss: 0.1142\n",
      "Epoch 2/1000\n",
      "55/55 [==============================] - 0s 2ms/step - loss: 0.0951\n",
      "Epoch 3/1000\n",
      "55/55 [==============================] - 0s 2ms/step - loss: 0.0951\n",
      "Epoch 4/1000\n",
      "55/55 [==============================] - 0s 2ms/step - loss: 0.0950\n",
      "Epoch 5/1000\n",
      "55/55 [==============================] - 0s 2ms/step - loss: 0.0946\n",
      "Epoch 6/1000\n",
      "55/55 [==============================] - 0s 2ms/step - loss: 0.0929\n",
      "Epoch 7/1000\n",
      "55/55 [==============================] - 0s 2ms/step - loss: 0.0907\n",
      "Epoch 8/1000\n",
      "55/55 [==============================] - 0s 2ms/step - loss: 0.0888\n",
      "Epoch 9/1000\n",
      "55/55 [==============================] - 0s 2ms/step - loss: 0.0859\n",
      "Epoch 10/1000\n",
      "55/55 [==============================] - 0s 2ms/step - loss: 0.0839\n",
      "Epoch 11/1000\n",
      "55/55 [==============================] - 0s 2ms/step - loss: 0.0816\n",
      "Epoch 12/1000\n",
      "55/55 [==============================] - 0s 2ms/step - loss: 0.0784\n",
      "Epoch 13/1000\n",
      "55/55 [==============================] - 0s 2ms/step - loss: 0.0755\n",
      "Epoch 14/1000\n",
      "55/55 [==============================] - 0s 2ms/step - loss: 0.0731\n",
      "Epoch 15/1000\n",
      "55/55 [==============================] - 0s 2ms/step - loss: 0.0706\n",
      "Epoch 16/1000\n",
      "55/55 [==============================] - 0s 2ms/step - loss: 0.0681\n",
      "Epoch 17/1000\n",
      "55/55 [==============================] - 0s 2ms/step - loss: 0.0657\n",
      "Epoch 18/1000\n",
      "55/55 [==============================] - 0s 2ms/step - loss: 0.0631\n",
      "Epoch 19/1000\n",
      "55/55 [==============================] - 0s 2ms/step - loss: 0.0608\n",
      "Epoch 20/1000\n",
      "55/55 [==============================] - 0s 2ms/step - loss: 0.0588\n",
      "Epoch 21/1000\n",
      "55/55 [==============================] - 0s 2ms/step - loss: 0.0569\n",
      "Epoch 22/1000\n",
      "55/55 [==============================] - 0s 2ms/step - loss: 0.0550\n",
      "Epoch 23/1000\n",
      "55/55 [==============================] - 0s 2ms/step - loss: 0.0533\n",
      "Epoch 24/1000\n",
      "55/55 [==============================] - 0s 2ms/step - loss: 0.0518\n",
      "Epoch 25/1000\n",
      "55/55 [==============================] - 0s 2ms/step - loss: 0.0503\n",
      "Epoch 26/1000\n",
      "55/55 [==============================] - 0s 2ms/step - loss: 0.0490\n",
      "Epoch 27/1000\n",
      "55/55 [==============================] - 0s 2ms/step - loss: 0.0478\n",
      "Epoch 28/1000\n",
      "55/55 [==============================] - 0s 2ms/step - loss: 0.0466\n",
      "Epoch 29/1000\n",
      "55/55 [==============================] - 0s 2ms/step - loss: 0.0455\n",
      "Epoch 30/1000\n",
      "55/55 [==============================] - 0s 2ms/step - loss: 0.0442\n",
      "Epoch 31/1000\n",
      "55/55 [==============================] - 0s 2ms/step - loss: 0.0432\n",
      "Epoch 32/1000\n",
      "55/55 [==============================] - 0s 2ms/step - loss: 0.0423\n",
      "Epoch 33/1000\n",
      "55/55 [==============================] - 0s 2ms/step - loss: 0.0412\n",
      "Epoch 34/1000\n",
      "55/55 [==============================] - 0s 2ms/step - loss: 0.0404\n",
      "Epoch 35/1000\n",
      "55/55 [==============================] - 0s 2ms/step - loss: 0.0395\n",
      "Epoch 36/1000\n",
      "55/55 [==============================] - 0s 2ms/step - loss: 0.0388\n",
      "Epoch 37/1000\n",
      "55/55 [==============================] - 0s 2ms/step - loss: 0.0381\n",
      "Epoch 38/1000\n",
      "55/55 [==============================] - 0s 2ms/step - loss: 0.0373\n",
      "Epoch 39/1000\n",
      "55/55 [==============================] - 0s 2ms/step - loss: 0.0366\n",
      "Epoch 40/1000\n",
      "55/55 [==============================] - 0s 2ms/step - loss: 0.0360\n",
      "Epoch 41/1000\n",
      "55/55 [==============================] - 0s 2ms/step - loss: 0.0354\n",
      "Epoch 42/1000\n",
      "55/55 [==============================] - 0s 2ms/step - loss: 0.0349\n",
      "Epoch 43/1000\n",
      "55/55 [==============================] - 0s 2ms/step - loss: 0.0343\n",
      "Epoch 44/1000\n",
      "55/55 [==============================] - 0s 2ms/step - loss: 0.0337\n",
      "Epoch 45/1000\n",
      "55/55 [==============================] - 0s 2ms/step - loss: 0.0332\n",
      "Epoch 46/1000\n",
      "55/55 [==============================] - 0s 2ms/step - loss: 0.0328\n",
      "Epoch 47/1000\n",
      "55/55 [==============================] - 0s 2ms/step - loss: 0.0323\n",
      "Epoch 48/1000\n",
      "55/55 [==============================] - 0s 2ms/step - loss: 0.0318\n",
      "Epoch 49/1000\n",
      "55/55 [==============================] - 0s 2ms/step - loss: 0.0315\n",
      "Epoch 50/1000\n",
      "55/55 [==============================] - 0s 2ms/step - loss: 0.0310\n",
      "Epoch 51/1000\n",
      "55/55 [==============================] - 0s 2ms/step - loss: 0.0306\n",
      "Epoch 52/1000\n",
      "55/55 [==============================] - 0s 2ms/step - loss: 0.0302\n",
      "Epoch 53/1000\n",
      "55/55 [==============================] - 0s 2ms/step - loss: 0.0298\n",
      "Epoch 54/1000\n",
      "55/55 [==============================] - 0s 2ms/step - loss: 0.0294\n",
      "Epoch 55/1000\n",
      "55/55 [==============================] - 0s 2ms/step - loss: 0.0291\n",
      "Epoch 56/1000\n",
      "55/55 [==============================] - 0s 2ms/step - loss: 0.0287\n",
      "Epoch 57/1000\n",
      "55/55 [==============================] - 0s 2ms/step - loss: 0.0285\n",
      "Epoch 58/1000\n",
      "55/55 [==============================] - 0s 2ms/step - loss: 0.0281\n",
      "Epoch 59/1000\n",
      "55/55 [==============================] - 0s 2ms/step - loss: 0.0278\n",
      "Epoch 60/1000\n",
      "55/55 [==============================] - 0s 2ms/step - loss: 0.0275\n",
      "Epoch 61/1000\n",
      "55/55 [==============================] - 0s 2ms/step - loss: 0.0272\n",
      "Epoch 62/1000\n",
      "55/55 [==============================] - 0s 2ms/step - loss: 0.0269\n",
      "Epoch 63/1000\n",
      "55/55 [==============================] - 0s 2ms/step - loss: 0.0267\n",
      "Epoch 64/1000\n",
      "55/55 [==============================] - 0s 2ms/step - loss: 0.0264\n",
      "Epoch 65/1000\n",
      "55/55 [==============================] - 0s 2ms/step - loss: 0.0262\n",
      "Epoch 66/1000\n",
      "55/55 [==============================] - 0s 2ms/step - loss: 0.0259\n",
      "Epoch 67/1000\n",
      "55/55 [==============================] - 0s 2ms/step - loss: 0.0257\n",
      "Epoch 68/1000\n",
      "55/55 [==============================] - 0s 2ms/step - loss: 0.0255\n",
      "Epoch 69/1000\n",
      "55/55 [==============================] - 0s 2ms/step - loss: 0.0252\n",
      "Epoch 70/1000\n",
      "55/55 [==============================] - 0s 2ms/step - loss: 0.0251\n",
      "Epoch 71/1000\n",
      "55/55 [==============================] - 0s 2ms/step - loss: 0.0247\n",
      "Epoch 72/1000\n",
      "55/55 [==============================] - 0s 2ms/step - loss: 0.0246\n",
      "Epoch 73/1000\n",
      "55/55 [==============================] - 0s 2ms/step - loss: 0.0244\n",
      "Epoch 74/1000\n",
      "55/55 [==============================] - 0s 2ms/step - loss: 0.0242\n",
      "Epoch 75/1000\n",
      "55/55 [==============================] - 0s 2ms/step - loss: 0.0240\n",
      "Epoch 76/1000\n",
      "55/55 [==============================] - 0s 2ms/step - loss: 0.0239\n",
      "Epoch 77/1000\n",
      "55/55 [==============================] - 0s 2ms/step - loss: 0.0236\n",
      "Epoch 78/1000\n",
      "55/55 [==============================] - 0s 2ms/step - loss: 0.0235\n",
      "Epoch 79/1000\n",
      "55/55 [==============================] - 0s 2ms/step - loss: 0.0233\n",
      "Epoch 80/1000\n",
      "55/55 [==============================] - 0s 2ms/step - loss: 0.0232\n",
      "Epoch 81/1000\n",
      "55/55 [==============================] - 0s 2ms/step - loss: 0.0230\n",
      "Epoch 82/1000\n",
      "55/55 [==============================] - 0s 2ms/step - loss: 0.0228\n",
      "Epoch 83/1000\n",
      "55/55 [==============================] - 0s 2ms/step - loss: 0.0227\n",
      "Epoch 84/1000\n",
      "55/55 [==============================] - 0s 2ms/step - loss: 0.0225\n",
      "Epoch 85/1000\n",
      "55/55 [==============================] - 0s 2ms/step - loss: 0.0223\n",
      "Epoch 86/1000\n",
      "55/55 [==============================] - 0s 2ms/step - loss: 0.0222\n",
      "Epoch 87/1000\n",
      "55/55 [==============================] - 0s 2ms/step - loss: 0.0220\n",
      "Epoch 88/1000\n",
      "55/55 [==============================] - 0s 2ms/step - loss: 0.0219\n",
      "Epoch 89/1000\n",
      "55/55 [==============================] - 0s 2ms/step - loss: 0.0218\n",
      "Epoch 90/1000\n",
      "55/55 [==============================] - 0s 2ms/step - loss: 0.0216\n",
      "Epoch 91/1000\n",
      "55/55 [==============================] - 0s 2ms/step - loss: 0.0215\n",
      "Epoch 92/1000\n",
      "55/55 [==============================] - 0s 2ms/step - loss: 0.0214\n",
      "Epoch 93/1000\n",
      "55/55 [==============================] - 0s 2ms/step - loss: 0.0213\n",
      "Epoch 94/1000\n",
      "55/55 [==============================] - 0s 2ms/step - loss: 0.0211\n",
      "Epoch 95/1000\n",
      "55/55 [==============================] - 0s 2ms/step - loss: 0.0210\n",
      "Epoch 96/1000\n",
      "55/55 [==============================] - 0s 2ms/step - loss: 0.0209\n",
      "Epoch 97/1000\n",
      "55/55 [==============================] - 0s 2ms/step - loss: 0.0207\n",
      "Epoch 98/1000\n",
      "55/55 [==============================] - 0s 2ms/step - loss: 0.0206\n",
      "Epoch 99/1000\n",
      "55/55 [==============================] - 0s 2ms/step - loss: 0.0205\n",
      "Epoch 100/1000\n",
      "55/55 [==============================] - 0s 2ms/step - loss: 0.0204\n",
      "Epoch 101/1000\n",
      "55/55 [==============================] - 0s 2ms/step - loss: 0.0203\n",
      "Epoch 102/1000\n",
      "55/55 [==============================] - 0s 2ms/step - loss: 0.0202\n",
      "Epoch 103/1000\n",
      "55/55 [==============================] - 0s 2ms/step - loss: 0.0201\n",
      "Epoch 104/1000\n",
      "55/55 [==============================] - 0s 2ms/step - loss: 0.0200\n",
      "Epoch 105/1000\n",
      "55/55 [==============================] - 0s 2ms/step - loss: 0.0199\n",
      "Epoch 106/1000\n",
      "55/55 [==============================] - 0s 2ms/step - loss: 0.0198\n",
      "Epoch 107/1000\n",
      "55/55 [==============================] - 0s 2ms/step - loss: 0.0196\n",
      "Epoch 108/1000\n",
      "55/55 [==============================] - 0s 2ms/step - loss: 0.0196\n",
      "Epoch 109/1000\n",
      "55/55 [==============================] - 0s 2ms/step - loss: 0.0195\n",
      "Epoch 110/1000\n",
      "55/55 [==============================] - 0s 2ms/step - loss: 0.0194\n",
      "Epoch 111/1000\n",
      "55/55 [==============================] - 0s 2ms/step - loss: 0.0193\n",
      "Epoch 112/1000\n",
      "55/55 [==============================] - 0s 2ms/step - loss: 0.0192\n",
      "Epoch 113/1000\n",
      "55/55 [==============================] - 0s 2ms/step - loss: 0.0191\n",
      "Epoch 114/1000\n",
      "55/55 [==============================] - 0s 2ms/step - loss: 0.0191\n",
      "Epoch 115/1000\n",
      "55/55 [==============================] - 0s 2ms/step - loss: 0.0189\n",
      "Epoch 116/1000\n",
      "55/55 [==============================] - 0s 2ms/step - loss: 0.0189\n",
      "Epoch 117/1000\n",
      "55/55 [==============================] - 0s 2ms/step - loss: 0.0187\n",
      "Epoch 118/1000\n",
      "55/55 [==============================] - 0s 2ms/step - loss: 0.0187\n",
      "Epoch 119/1000\n",
      "55/55 [==============================] - 0s 2ms/step - loss: 0.0186\n",
      "Epoch 120/1000\n",
      "55/55 [==============================] - 0s 2ms/step - loss: 0.0185\n",
      "Epoch 121/1000\n",
      "55/55 [==============================] - 0s 2ms/step - loss: 0.0184\n",
      "Epoch 122/1000\n",
      "55/55 [==============================] - 0s 2ms/step - loss: 0.0183\n",
      "Epoch 123/1000\n",
      "55/55 [==============================] - 0s 2ms/step - loss: 0.0183\n",
      "Epoch 124/1000\n",
      "55/55 [==============================] - 0s 2ms/step - loss: 0.0182\n",
      "Epoch 125/1000\n",
      "55/55 [==============================] - 0s 2ms/step - loss: 0.0181\n",
      "Epoch 126/1000\n",
      "55/55 [==============================] - 0s 2ms/step - loss: 0.0180\n",
      "Epoch 127/1000\n",
      "55/55 [==============================] - 0s 2ms/step - loss: 0.0180\n",
      "Epoch 128/1000\n",
      "55/55 [==============================] - 0s 2ms/step - loss: 0.0179\n",
      "Epoch 129/1000\n",
      "55/55 [==============================] - 0s 2ms/step - loss: 0.0178\n",
      "Epoch 130/1000\n",
      "55/55 [==============================] - 0s 2ms/step - loss: 0.0178\n",
      "Epoch 131/1000\n",
      "55/55 [==============================] - 0s 2ms/step - loss: 0.0177\n",
      "Epoch 132/1000\n",
      "55/55 [==============================] - 0s 2ms/step - loss: 0.0176\n",
      "Epoch 133/1000\n",
      "55/55 [==============================] - 0s 2ms/step - loss: 0.0176\n",
      "Epoch 134/1000\n",
      "55/55 [==============================] - 0s 2ms/step - loss: 0.0175\n",
      "Epoch 135/1000\n",
      "55/55 [==============================] - 0s 2ms/step - loss: 0.0174\n",
      "Epoch 136/1000\n",
      "55/55 [==============================] - 0s 2ms/step - loss: 0.0173\n",
      "Epoch 137/1000\n",
      "55/55 [==============================] - 0s 2ms/step - loss: 0.0173\n",
      "Epoch 138/1000\n",
      "55/55 [==============================] - 0s 2ms/step - loss: 0.0173\n",
      "Epoch 139/1000\n",
      "55/55 [==============================] - 0s 2ms/step - loss: 0.0172\n",
      "Epoch 140/1000\n",
      "55/55 [==============================] - 0s 2ms/step - loss: 0.0171\n",
      "Epoch 141/1000\n",
      "55/55 [==============================] - 0s 2ms/step - loss: 0.0170\n",
      "Epoch 142/1000\n",
      "55/55 [==============================] - 0s 2ms/step - loss: 0.0170\n",
      "Epoch 143/1000\n",
      "55/55 [==============================] - 0s 2ms/step - loss: 0.0170\n",
      "Epoch 144/1000\n",
      "55/55 [==============================] - 0s 2ms/step - loss: 0.0169\n",
      "Epoch 145/1000\n",
      "55/55 [==============================] - 0s 2ms/step - loss: 0.0168\n",
      "Epoch 146/1000\n",
      "55/55 [==============================] - 0s 2ms/step - loss: 0.0168\n",
      "Epoch 147/1000\n",
      "55/55 [==============================] - 0s 2ms/step - loss: 0.0167\n",
      "Epoch 148/1000\n",
      "55/55 [==============================] - 0s 2ms/step - loss: 0.0167\n",
      "Epoch 149/1000\n",
      "55/55 [==============================] - 0s 2ms/step - loss: 0.0166\n",
      "Epoch 150/1000\n",
      "55/55 [==============================] - 0s 2ms/step - loss: 0.0166\n",
      "Epoch 151/1000\n",
      "55/55 [==============================] - 0s 2ms/step - loss: 0.0165\n",
      "Epoch 152/1000\n",
      "55/55 [==============================] - 0s 2ms/step - loss: 0.0165\n",
      "Epoch 153/1000\n",
      "55/55 [==============================] - 0s 2ms/step - loss: 0.0164\n",
      "Epoch 154/1000\n",
      "55/55 [==============================] - 0s 2ms/step - loss: 0.0164\n",
      "Epoch 155/1000\n",
      "55/55 [==============================] - 0s 2ms/step - loss: 0.0163\n",
      "Epoch 156/1000\n",
      "55/55 [==============================] - 0s 2ms/step - loss: 0.0163\n",
      "Epoch 157/1000\n",
      "55/55 [==============================] - 0s 2ms/step - loss: 0.0162\n",
      "Epoch 158/1000\n",
      "55/55 [==============================] - 0s 2ms/step - loss: 0.0162\n",
      "Epoch 159/1000\n",
      "55/55 [==============================] - 0s 2ms/step - loss: 0.0161\n",
      "Epoch 160/1000\n",
      "55/55 [==============================] - 0s 2ms/step - loss: 0.0160\n",
      "Epoch 161/1000\n",
      "55/55 [==============================] - 0s 2ms/step - loss: 0.0160\n",
      "Epoch 162/1000\n",
      "55/55 [==============================] - 0s 2ms/step - loss: 0.0160\n",
      "Epoch 163/1000\n",
      "55/55 [==============================] - 0s 2ms/step - loss: 0.0159\n",
      "Epoch 164/1000\n",
      "55/55 [==============================] - 0s 2ms/step - loss: 0.0158\n",
      "Epoch 165/1000\n",
      "55/55 [==============================] - 0s 2ms/step - loss: 0.0158\n",
      "Epoch 166/1000\n",
      "55/55 [==============================] - 0s 2ms/step - loss: 0.0158\n",
      "Epoch 167/1000\n",
      "55/55 [==============================] - 0s 2ms/step - loss: 0.0157\n",
      "Epoch 168/1000\n",
      "55/55 [==============================] - 0s 2ms/step - loss: 0.0157\n",
      "Epoch 169/1000\n",
      "55/55 [==============================] - 0s 2ms/step - loss: 0.0157\n",
      "Epoch 170/1000\n",
      "55/55 [==============================] - 0s 2ms/step - loss: 0.0156\n",
      "Epoch 171/1000\n",
      "55/55 [==============================] - 0s 2ms/step - loss: 0.0156\n",
      "Epoch 172/1000\n",
      "55/55 [==============================] - 0s 2ms/step - loss: 0.0155\n",
      "Epoch 173/1000\n",
      "55/55 [==============================] - 0s 2ms/step - loss: 0.0155\n",
      "Epoch 174/1000\n",
      "55/55 [==============================] - 0s 2ms/step - loss: 0.0154\n",
      "Epoch 175/1000\n",
      "55/55 [==============================] - 0s 2ms/step - loss: 0.0154\n",
      "Epoch 176/1000\n",
      "55/55 [==============================] - 0s 2ms/step - loss: 0.0153\n",
      "Epoch 177/1000\n",
      "55/55 [==============================] - 0s 2ms/step - loss: 0.0153\n",
      "Epoch 178/1000\n",
      "55/55 [==============================] - 0s 2ms/step - loss: 0.0153\n",
      "Epoch 179/1000\n",
      "55/55 [==============================] - 0s 2ms/step - loss: 0.0152\n",
      "Epoch 180/1000\n",
      "55/55 [==============================] - 0s 2ms/step - loss: 0.0152\n",
      "Epoch 181/1000\n",
      "55/55 [==============================] - 0s 2ms/step - loss: 0.0152\n",
      "Epoch 182/1000\n",
      "55/55 [==============================] - 0s 2ms/step - loss: 0.0151\n",
      "Epoch 183/1000\n",
      "55/55 [==============================] - 0s 2ms/step - loss: 0.0151\n",
      "Epoch 184/1000\n",
      "55/55 [==============================] - 0s 2ms/step - loss: 0.0150\n",
      "Epoch 185/1000\n",
      "55/55 [==============================] - 0s 2ms/step - loss: 0.0150\n",
      "Epoch 186/1000\n",
      "55/55 [==============================] - 0s 2ms/step - loss: 0.0150\n",
      "Epoch 187/1000\n",
      "55/55 [==============================] - 0s 2ms/step - loss: 0.0150\n",
      "Epoch 188/1000\n",
      "55/55 [==============================] - 0s 2ms/step - loss: 0.0149\n",
      "Epoch 189/1000\n",
      "55/55 [==============================] - 0s 2ms/step - loss: 0.0149\n",
      "Epoch 190/1000\n",
      "55/55 [==============================] - 0s 2ms/step - loss: 0.0148\n",
      "Epoch 191/1000\n",
      "55/55 [==============================] - 0s 2ms/step - loss: 0.0148\n",
      "Epoch 192/1000\n",
      "55/55 [==============================] - 0s 2ms/step - loss: 0.0147\n",
      "Epoch 193/1000\n",
      "55/55 [==============================] - 0s 2ms/step - loss: 0.0147\n",
      "Epoch 194/1000\n",
      "55/55 [==============================] - 0s 2ms/step - loss: 0.0147\n",
      "Epoch 195/1000\n",
      "55/55 [==============================] - 0s 2ms/step - loss: 0.0146\n",
      "Epoch 196/1000\n",
      "55/55 [==============================] - 0s 2ms/step - loss: 0.0146\n",
      "Epoch 197/1000\n",
      "55/55 [==============================] - 0s 2ms/step - loss: 0.0146\n",
      "Epoch 198/1000\n",
      "55/55 [==============================] - 0s 2ms/step - loss: 0.0146\n",
      "Epoch 199/1000\n",
      "55/55 [==============================] - 0s 2ms/step - loss: 0.0146\n",
      "Epoch 200/1000\n",
      "55/55 [==============================] - 0s 2ms/step - loss: 0.0145\n",
      "Epoch 201/1000\n",
      "55/55 [==============================] - 0s 2ms/step - loss: 0.0145\n",
      "Epoch 202/1000\n",
      "55/55 [==============================] - 0s 2ms/step - loss: 0.0145\n",
      "Epoch 203/1000\n",
      "55/55 [==============================] - 0s 2ms/step - loss: 0.0144\n",
      "Epoch 204/1000\n",
      "55/55 [==============================] - 0s 2ms/step - loss: 0.0144\n",
      "Epoch 205/1000\n",
      "55/55 [==============================] - 0s 2ms/step - loss: 0.0144\n",
      "Epoch 206/1000\n",
      "55/55 [==============================] - 0s 2ms/step - loss: 0.0143\n",
      "Epoch 207/1000\n",
      "55/55 [==============================] - 0s 2ms/step - loss: 0.0143\n",
      "Epoch 208/1000\n",
      "55/55 [==============================] - 0s 2ms/step - loss: 0.0143\n",
      "Epoch 209/1000\n",
      "55/55 [==============================] - 0s 2ms/step - loss: 0.0142\n",
      "Epoch 210/1000\n",
      "55/55 [==============================] - 0s 2ms/step - loss: 0.0142\n",
      "Epoch 211/1000\n",
      "55/55 [==============================] - 0s 2ms/step - loss: 0.0142\n",
      "Epoch 212/1000\n",
      "55/55 [==============================] - 0s 2ms/step - loss: 0.0142\n",
      "Epoch 213/1000\n",
      "55/55 [==============================] - 0s 2ms/step - loss: 0.0141\n",
      "Epoch 214/1000\n",
      "55/55 [==============================] - 0s 2ms/step - loss: 0.0141\n",
      "Epoch 215/1000\n",
      "55/55 [==============================] - 0s 2ms/step - loss: 0.0141\n",
      "Epoch 216/1000\n",
      "55/55 [==============================] - 0s 2ms/step - loss: 0.0140\n",
      "Epoch 217/1000\n",
      "55/55 [==============================] - 0s 2ms/step - loss: 0.0140\n",
      "Epoch 218/1000\n",
      "55/55 [==============================] - 0s 2ms/step - loss: 0.0140\n",
      "Epoch 219/1000\n",
      "55/55 [==============================] - 0s 2ms/step - loss: 0.0139\n",
      "Epoch 220/1000\n",
      "55/55 [==============================] - 0s 2ms/step - loss: 0.0139\n",
      "Epoch 221/1000\n",
      "55/55 [==============================] - 0s 2ms/step - loss: 0.0139\n",
      "Epoch 222/1000\n",
      "55/55 [==============================] - 0s 2ms/step - loss: 0.0139\n",
      "Epoch 223/1000\n",
      "55/55 [==============================] - 0s 2ms/step - loss: 0.0139\n",
      "Epoch 224/1000\n",
      "55/55 [==============================] - 0s 2ms/step - loss: 0.0138\n",
      "Epoch 225/1000\n",
      "55/55 [==============================] - 0s 2ms/step - loss: 0.0138\n",
      "Epoch 226/1000\n",
      "55/55 [==============================] - 0s 2ms/step - loss: 0.0138\n",
      "Epoch 227/1000\n",
      "55/55 [==============================] - 0s 2ms/step - loss: 0.0137\n",
      "Epoch 228/1000\n",
      "55/55 [==============================] - 0s 2ms/step - loss: 0.0137\n",
      "Epoch 229/1000\n",
      "55/55 [==============================] - 0s 2ms/step - loss: 0.0137\n",
      "Epoch 230/1000\n",
      "55/55 [==============================] - 0s 2ms/step - loss: 0.0137\n",
      "Epoch 231/1000\n",
      "55/55 [==============================] - 0s 2ms/step - loss: 0.0136\n",
      "Epoch 232/1000\n",
      "55/55 [==============================] - 0s 2ms/step - loss: 0.0136\n",
      "Epoch 233/1000\n",
      "55/55 [==============================] - 0s 2ms/step - loss: 0.0136\n",
      "Epoch 234/1000\n",
      "55/55 [==============================] - 0s 2ms/step - loss: 0.0136\n",
      "Epoch 235/1000\n",
      "55/55 [==============================] - 0s 2ms/step - loss: 0.0136\n",
      "Epoch 236/1000\n",
      "55/55 [==============================] - 0s 2ms/step - loss: 0.0135\n",
      "Epoch 237/1000\n",
      "55/55 [==============================] - 0s 2ms/step - loss: 0.0135\n",
      "Epoch 238/1000\n",
      "55/55 [==============================] - 0s 2ms/step - loss: 0.0135\n",
      "Epoch 239/1000\n",
      "55/55 [==============================] - 0s 2ms/step - loss: 0.0135\n",
      "Epoch 240/1000\n",
      "55/55 [==============================] - 0s 2ms/step - loss: 0.0134\n",
      "Epoch 241/1000\n",
      "55/55 [==============================] - 0s 2ms/step - loss: 0.0134\n",
      "Epoch 242/1000\n",
      "55/55 [==============================] - 0s 2ms/step - loss: 0.0134\n",
      "Epoch 243/1000\n",
      "55/55 [==============================] - 0s 2ms/step - loss: 0.0133\n",
      "Epoch 244/1000\n",
      "55/55 [==============================] - 0s 2ms/step - loss: 0.0133\n",
      "Epoch 245/1000\n",
      "55/55 [==============================] - 0s 2ms/step - loss: 0.0133\n",
      "Epoch 246/1000\n",
      "55/55 [==============================] - 0s 2ms/step - loss: 0.0133\n",
      "Epoch 247/1000\n",
      "55/55 [==============================] - 0s 2ms/step - loss: 0.0133\n",
      "Epoch 248/1000\n",
      "55/55 [==============================] - 0s 2ms/step - loss: 0.0132\n",
      "Epoch 249/1000\n",
      "55/55 [==============================] - 0s 2ms/step - loss: 0.0132\n",
      "Epoch 250/1000\n",
      "55/55 [==============================] - 0s 2ms/step - loss: 0.0132\n",
      "Epoch 251/1000\n",
      "55/55 [==============================] - 0s 2ms/step - loss: 0.0132\n",
      "Epoch 252/1000\n",
      "55/55 [==============================] - 0s 2ms/step - loss: 0.0132\n",
      "Epoch 253/1000\n",
      "55/55 [==============================] - 0s 2ms/step - loss: 0.0132\n",
      "Epoch 254/1000\n",
      "55/55 [==============================] - 0s 2ms/step - loss: 0.0132\n",
      "Epoch 255/1000\n",
      "55/55 [==============================] - 0s 2ms/step - loss: 0.0132\n",
      "Epoch 256/1000\n",
      "55/55 [==============================] - 0s 2ms/step - loss: 0.0131\n",
      "Epoch 257/1000\n",
      "55/55 [==============================] - 0s 2ms/step - loss: 0.0130\n",
      "Epoch 258/1000\n",
      "55/55 [==============================] - 0s 2ms/step - loss: 0.0131\n",
      "Epoch 259/1000\n",
      "55/55 [==============================] - 0s 2ms/step - loss: 0.0130\n",
      "Epoch 260/1000\n",
      "55/55 [==============================] - 0s 2ms/step - loss: 0.0130\n",
      "Epoch 261/1000\n",
      "55/55 [==============================] - 0s 2ms/step - loss: 0.0130\n",
      "Epoch 262/1000\n",
      "55/55 [==============================] - 0s 2ms/step - loss: 0.0130\n",
      "Epoch 263/1000\n",
      "55/55 [==============================] - 0s 2ms/step - loss: 0.0130\n",
      "Epoch 264/1000\n",
      "55/55 [==============================] - 0s 2ms/step - loss: 0.0129\n",
      "Epoch 265/1000\n",
      "55/55 [==============================] - 0s 2ms/step - loss: 0.0130\n",
      "Epoch 266/1000\n",
      "55/55 [==============================] - 0s 2ms/step - loss: 0.0129\n",
      "Epoch 267/1000\n",
      "55/55 [==============================] - 0s 2ms/step - loss: 0.0129\n",
      "Epoch 268/1000\n",
      "55/55 [==============================] - 0s 2ms/step - loss: 0.0128\n",
      "Epoch 269/1000\n",
      "55/55 [==============================] - 0s 2ms/step - loss: 0.0128\n",
      "Epoch 270/1000\n",
      "55/55 [==============================] - 0s 2ms/step - loss: 0.0129\n",
      "Epoch 271/1000\n",
      "55/55 [==============================] - 0s 2ms/step - loss: 0.0128\n",
      "Epoch 272/1000\n",
      "55/55 [==============================] - 0s 2ms/step - loss: 0.0128\n",
      "Epoch 273/1000\n",
      "55/55 [==============================] - 0s 2ms/step - loss: 0.0128\n",
      "Epoch 274/1000\n",
      "55/55 [==============================] - 0s 2ms/step - loss: 0.0127\n",
      "Epoch 275/1000\n",
      "55/55 [==============================] - 0s 2ms/step - loss: 0.0127\n",
      "Epoch 276/1000\n",
      "55/55 [==============================] - 0s 2ms/step - loss: 0.0127\n",
      "Epoch 277/1000\n",
      "55/55 [==============================] - 0s 2ms/step - loss: 0.0127\n",
      "Epoch 278/1000\n",
      "55/55 [==============================] - 0s 2ms/step - loss: 0.0127\n",
      "Epoch 279/1000\n",
      "55/55 [==============================] - 0s 2ms/step - loss: 0.0127\n",
      "Epoch 280/1000\n",
      "55/55 [==============================] - 0s 2ms/step - loss: 0.0126\n",
      "Epoch 281/1000\n",
      "55/55 [==============================] - 0s 2ms/step - loss: 0.0126\n",
      "Epoch 282/1000\n",
      "55/55 [==============================] - 0s 2ms/step - loss: 0.0127\n",
      "Epoch 283/1000\n",
      "55/55 [==============================] - 0s 2ms/step - loss: 0.0126\n",
      "Epoch 284/1000\n",
      "55/55 [==============================] - 0s 2ms/step - loss: 0.0126\n",
      "Epoch 285/1000\n",
      "55/55 [==============================] - 0s 2ms/step - loss: 0.0126\n",
      "Epoch 286/1000\n",
      "55/55 [==============================] - 0s 2ms/step - loss: 0.0126\n",
      "Epoch 287/1000\n",
      "55/55 [==============================] - 0s 2ms/step - loss: 0.0125\n",
      "Epoch 288/1000\n",
      "55/55 [==============================] - 0s 2ms/step - loss: 0.0125\n",
      "Epoch 289/1000\n",
      "55/55 [==============================] - 0s 2ms/step - loss: 0.0125\n",
      "Epoch 290/1000\n",
      "55/55 [==============================] - 0s 2ms/step - loss: 0.0125\n",
      "Epoch 291/1000\n",
      "55/55 [==============================] - 0s 2ms/step - loss: 0.0125\n",
      "Epoch 292/1000\n",
      "55/55 [==============================] - 0s 2ms/step - loss: 0.0125\n",
      "Epoch 293/1000\n",
      "55/55 [==============================] - 0s 2ms/step - loss: 0.0124\n",
      "Epoch 294/1000\n",
      "55/55 [==============================] - 0s 2ms/step - loss: 0.0124\n",
      "Epoch 295/1000\n",
      "55/55 [==============================] - 0s 2ms/step - loss: 0.0124\n",
      "Epoch 296/1000\n",
      "55/55 [==============================] - 0s 2ms/step - loss: 0.0124\n",
      "Epoch 297/1000\n",
      "55/55 [==============================] - 0s 2ms/step - loss: 0.0123\n",
      "Epoch 298/1000\n",
      "55/55 [==============================] - 0s 2ms/step - loss: 0.0124\n",
      "Epoch 299/1000\n",
      "55/55 [==============================] - 0s 2ms/step - loss: 0.0123\n",
      "Epoch 300/1000\n",
      "55/55 [==============================] - 0s 2ms/step - loss: 0.0123\n",
      "Epoch 301/1000\n",
      "55/55 [==============================] - 0s 2ms/step - loss: 0.0123\n",
      "Epoch 302/1000\n",
      "55/55 [==============================] - 0s 2ms/step - loss: 0.0123\n",
      "Epoch 303/1000\n",
      "55/55 [==============================] - 0s 2ms/step - loss: 0.0123\n",
      "Epoch 304/1000\n",
      "55/55 [==============================] - 0s 2ms/step - loss: 0.0122\n",
      "Epoch 305/1000\n",
      "55/55 [==============================] - 0s 2ms/step - loss: 0.0122\n",
      "Epoch 306/1000\n",
      "55/55 [==============================] - 0s 2ms/step - loss: 0.0123\n",
      "Epoch 307/1000\n",
      "55/55 [==============================] - 0s 2ms/step - loss: 0.0122\n",
      "Epoch 308/1000\n",
      "55/55 [==============================] - 0s 2ms/step - loss: 0.0122\n",
      "Epoch 309/1000\n",
      "55/55 [==============================] - 0s 2ms/step - loss: 0.0122\n",
      "Epoch 310/1000\n",
      "55/55 [==============================] - 0s 2ms/step - loss: 0.0122\n",
      "Epoch 311/1000\n",
      "55/55 [==============================] - 0s 2ms/step - loss: 0.0122\n",
      "Epoch 312/1000\n",
      "55/55 [==============================] - 0s 2ms/step - loss: 0.0122\n",
      "Epoch 313/1000\n",
      "55/55 [==============================] - 0s 2ms/step - loss: 0.0121\n",
      "Epoch 314/1000\n",
      "55/55 [==============================] - 0s 2ms/step - loss: 0.0121\n",
      "Epoch 315/1000\n",
      "55/55 [==============================] - 0s 2ms/step - loss: 0.0121\n",
      "Epoch 316/1000\n",
      "55/55 [==============================] - 0s 2ms/step - loss: 0.0121\n",
      "Epoch 317/1000\n",
      "55/55 [==============================] - 0s 2ms/step - loss: 0.0121\n",
      "Epoch 318/1000\n",
      "55/55 [==============================] - 0s 2ms/step - loss: 0.0121\n",
      "Epoch 319/1000\n",
      "55/55 [==============================] - 0s 2ms/step - loss: 0.0120\n",
      "Epoch 320/1000\n",
      "55/55 [==============================] - 0s 2ms/step - loss: 0.0120\n",
      "Epoch 321/1000\n",
      "55/55 [==============================] - 0s 2ms/step - loss: 0.0120\n",
      "Epoch 322/1000\n",
      "55/55 [==============================] - 0s 2ms/step - loss: 0.0120\n",
      "Epoch 323/1000\n",
      "55/55 [==============================] - 0s 2ms/step - loss: 0.0120\n",
      "Epoch 324/1000\n",
      "55/55 [==============================] - 0s 2ms/step - loss: 0.0120\n",
      "Epoch 325/1000\n",
      "55/55 [==============================] - 0s 2ms/step - loss: 0.0120\n",
      "Epoch 326/1000\n",
      "55/55 [==============================] - 0s 2ms/step - loss: 0.0120\n",
      "Epoch 327/1000\n",
      "55/55 [==============================] - 0s 2ms/step - loss: 0.0119\n",
      "Epoch 328/1000\n",
      "55/55 [==============================] - 0s 2ms/step - loss: 0.0119\n",
      "Epoch 329/1000\n",
      "55/55 [==============================] - 0s 2ms/step - loss: 0.0119\n",
      "Epoch 330/1000\n",
      "55/55 [==============================] - 0s 2ms/step - loss: 0.0119\n",
      "Epoch 331/1000\n",
      "55/55 [==============================] - 0s 2ms/step - loss: 0.0119\n",
      "Epoch 332/1000\n",
      "55/55 [==============================] - 0s 2ms/step - loss: 0.0119\n",
      "Epoch 333/1000\n",
      "55/55 [==============================] - 0s 2ms/step - loss: 0.0119\n",
      "Epoch 334/1000\n",
      "55/55 [==============================] - 0s 2ms/step - loss: 0.0118\n",
      "Epoch 335/1000\n",
      "55/55 [==============================] - 0s 2ms/step - loss: 0.0118\n",
      "Epoch 336/1000\n",
      "55/55 [==============================] - 0s 2ms/step - loss: 0.0118\n",
      "Epoch 337/1000\n",
      "55/55 [==============================] - 0s 2ms/step - loss: 0.0118\n",
      "Epoch 338/1000\n",
      "55/55 [==============================] - 0s 2ms/step - loss: 0.0118\n",
      "Epoch 339/1000\n",
      "55/55 [==============================] - 0s 2ms/step - loss: 0.0118\n",
      "Epoch 340/1000\n",
      "55/55 [==============================] - 0s 2ms/step - loss: 0.0117\n",
      "Epoch 341/1000\n",
      "55/55 [==============================] - 0s 2ms/step - loss: 0.0117\n",
      "Epoch 342/1000\n",
      "55/55 [==============================] - 0s 2ms/step - loss: 0.0118\n",
      "Epoch 343/1000\n",
      "55/55 [==============================] - 0s 2ms/step - loss: 0.0117\n",
      "Epoch 344/1000\n",
      "55/55 [==============================] - 0s 2ms/step - loss: 0.0118\n",
      "Epoch 345/1000\n",
      "55/55 [==============================] - 0s 2ms/step - loss: 0.0117\n",
      "Epoch 346/1000\n",
      "55/55 [==============================] - 0s 2ms/step - loss: 0.0117\n",
      "Epoch 347/1000\n",
      "55/55 [==============================] - 0s 2ms/step - loss: 0.0117\n",
      "Epoch 348/1000\n",
      "55/55 [==============================] - 0s 2ms/step - loss: 0.0117\n",
      "Epoch 349/1000\n",
      "55/55 [==============================] - 0s 2ms/step - loss: 0.0117\n",
      "Epoch 350/1000\n",
      "55/55 [==============================] - 0s 3ms/step - loss: 0.0116\n",
      "Epoch 351/1000\n",
      "55/55 [==============================] - 0s 2ms/step - loss: 0.0117\n",
      "Epoch 352/1000\n",
      "55/55 [==============================] - 0s 2ms/step - loss: 0.0117\n",
      "Epoch 353/1000\n",
      "55/55 [==============================] - 0s 2ms/step - loss: 0.0116\n",
      "Epoch 354/1000\n",
      "55/55 [==============================] - 0s 2ms/step - loss: 0.0116\n",
      "Epoch 355/1000\n",
      "55/55 [==============================] - 0s 2ms/step - loss: 0.0116\n",
      "Epoch 356/1000\n",
      "55/55 [==============================] - 0s 2ms/step - loss: 0.0115\n",
      "Epoch 357/1000\n",
      "55/55 [==============================] - 0s 2ms/step - loss: 0.0116\n",
      "Epoch 358/1000\n",
      "55/55 [==============================] - 0s 3ms/step - loss: 0.0116\n",
      "Epoch 359/1000\n",
      "55/55 [==============================] - 0s 2ms/step - loss: 0.0116\n",
      "Epoch 360/1000\n",
      "55/55 [==============================] - 0s 2ms/step - loss: 0.0115\n",
      "Epoch 361/1000\n",
      "55/55 [==============================] - 0s 2ms/step - loss: 0.0115\n",
      "Epoch 362/1000\n",
      "55/55 [==============================] - 0s 2ms/step - loss: 0.0115\n",
      "Epoch 363/1000\n",
      "55/55 [==============================] - 0s 2ms/step - loss: 0.0115\n",
      "Epoch 364/1000\n",
      "55/55 [==============================] - 0s 2ms/step - loss: 0.0115\n",
      "Epoch 365/1000\n",
      "55/55 [==============================] - 0s 2ms/step - loss: 0.0115\n",
      "Epoch 366/1000\n",
      "55/55 [==============================] - 0s 2ms/step - loss: 0.0114\n",
      "Epoch 367/1000\n",
      "55/55 [==============================] - 0s 2ms/step - loss: 0.0115\n",
      "Epoch 368/1000\n",
      "55/55 [==============================] - 0s 2ms/step - loss: 0.0114\n",
      "Epoch 369/1000\n",
      "55/55 [==============================] - 0s 2ms/step - loss: 0.0114\n",
      "Epoch 370/1000\n",
      "55/55 [==============================] - 0s 2ms/step - loss: 0.0114\n",
      "Epoch 371/1000\n",
      "55/55 [==============================] - 0s 2ms/step - loss: 0.0114\n",
      "Epoch 372/1000\n",
      "55/55 [==============================] - 0s 2ms/step - loss: 0.0114\n",
      "Epoch 373/1000\n",
      "55/55 [==============================] - 0s 2ms/step - loss: 0.0115\n",
      "Epoch 374/1000\n",
      "55/55 [==============================] - 0s 3ms/step - loss: 0.0114\n",
      "Epoch 375/1000\n",
      "55/55 [==============================] - 0s 2ms/step - loss: 0.0114\n",
      "Epoch 376/1000\n",
      "55/55 [==============================] - 0s 2ms/step - loss: 0.0114\n",
      "Epoch 377/1000\n",
      "55/55 [==============================] - 0s 2ms/step - loss: 0.0113\n",
      "Epoch 378/1000\n",
      "55/55 [==============================] - 0s 2ms/step - loss: 0.0114\n",
      "Epoch 379/1000\n",
      "55/55 [==============================] - 0s 2ms/step - loss: 0.0114\n",
      "Epoch 380/1000\n",
      "55/55 [==============================] - 0s 2ms/step - loss: 0.0113\n",
      "Epoch 381/1000\n",
      "55/55 [==============================] - 0s 2ms/step - loss: 0.0113\n",
      "Epoch 382/1000\n",
      "55/55 [==============================] - 0s 2ms/step - loss: 0.0113\n",
      "Epoch 383/1000\n",
      "55/55 [==============================] - 0s 2ms/step - loss: 0.0113\n",
      "Epoch 384/1000\n",
      "55/55 [==============================] - 0s 2ms/step - loss: 0.0113\n",
      "Epoch 385/1000\n",
      "55/55 [==============================] - 0s 2ms/step - loss: 0.0113\n",
      "Epoch 386/1000\n",
      "55/55 [==============================] - 0s 2ms/step - loss: 0.0113\n",
      "Epoch 387/1000\n",
      "55/55 [==============================] - 0s 2ms/step - loss: 0.0113\n",
      "Epoch 388/1000\n",
      "55/55 [==============================] - 0s 2ms/step - loss: 0.0112\n",
      "Epoch 389/1000\n",
      "55/55 [==============================] - 0s 2ms/step - loss: 0.0112\n",
      "Epoch 390/1000\n",
      "55/55 [==============================] - 0s 2ms/step - loss: 0.0112\n",
      "Epoch 391/1000\n",
      "55/55 [==============================] - 0s 2ms/step - loss: 0.0112\n",
      "Epoch 392/1000\n",
      "55/55 [==============================] - 0s 2ms/step - loss: 0.0112\n",
      "Epoch 393/1000\n",
      "55/55 [==============================] - 0s 2ms/step - loss: 0.0112\n",
      "Epoch 394/1000\n",
      "55/55 [==============================] - 0s 2ms/step - loss: 0.0112\n",
      "Epoch 395/1000\n",
      "55/55 [==============================] - 0s 2ms/step - loss: 0.0112\n",
      "Epoch 396/1000\n",
      "55/55 [==============================] - 0s 2ms/step - loss: 0.0112\n",
      "Epoch 397/1000\n",
      "55/55 [==============================] - 0s 2ms/step - loss: 0.0111\n",
      "Epoch 398/1000\n",
      "55/55 [==============================] - 0s 2ms/step - loss: 0.0112\n",
      "Epoch 399/1000\n",
      "55/55 [==============================] - 0s 2ms/step - loss: 0.0112\n",
      "Epoch 400/1000\n",
      "55/55 [==============================] - 0s 2ms/step - loss: 0.0111\n",
      "Epoch 401/1000\n",
      "55/55 [==============================] - 0s 3ms/step - loss: 0.0111\n",
      "Epoch 402/1000\n",
      "55/55 [==============================] - 0s 2ms/step - loss: 0.0111\n",
      "Epoch 403/1000\n",
      "55/55 [==============================] - 0s 3ms/step - loss: 0.0111\n",
      "Epoch 404/1000\n",
      "55/55 [==============================] - 0s 2ms/step - loss: 0.0111\n",
      "Epoch 405/1000\n",
      "55/55 [==============================] - 0s 2ms/step - loss: 0.0111\n",
      "Epoch 406/1000\n",
      "55/55 [==============================] - 0s 2ms/step - loss: 0.0111\n",
      "Epoch 407/1000\n",
      "55/55 [==============================] - 0s 2ms/step - loss: 0.0111\n",
      "Epoch 408/1000\n",
      "55/55 [==============================] - 0s 2ms/step - loss: 0.0111\n",
      "Epoch 409/1000\n",
      "55/55 [==============================] - 0s 2ms/step - loss: 0.0110\n",
      "Epoch 410/1000\n",
      "55/55 [==============================] - 0s 2ms/step - loss: 0.0110\n",
      "Epoch 411/1000\n",
      "55/55 [==============================] - 0s 2ms/step - loss: 0.0110\n",
      "Epoch 412/1000\n",
      "55/55 [==============================] - 0s 2ms/step - loss: 0.0110\n",
      "Epoch 413/1000\n",
      "55/55 [==============================] - 0s 2ms/step - loss: 0.0110\n",
      "Epoch 414/1000\n",
      "55/55 [==============================] - 0s 2ms/step - loss: 0.0110\n",
      "Epoch 415/1000\n",
      "55/55 [==============================] - 0s 2ms/step - loss: 0.0110\n",
      "Epoch 416/1000\n",
      "55/55 [==============================] - 0s 2ms/step - loss: 0.0110\n",
      "Epoch 417/1000\n",
      "55/55 [==============================] - 0s 2ms/step - loss: 0.0110\n",
      "Epoch 418/1000\n",
      "55/55 [==============================] - 0s 2ms/step - loss: 0.0110\n",
      "Epoch 419/1000\n",
      "55/55 [==============================] - 0s 2ms/step - loss: 0.0110\n",
      "Epoch 420/1000\n",
      "55/55 [==============================] - 0s 2ms/step - loss: 0.0109\n",
      "Epoch 421/1000\n",
      "55/55 [==============================] - 0s 2ms/step - loss: 0.0110\n",
      "Epoch 422/1000\n",
      "55/55 [==============================] - 0s 2ms/step - loss: 0.0109\n",
      "Epoch 423/1000\n",
      "55/55 [==============================] - 0s 2ms/step - loss: 0.0109\n",
      "Epoch 424/1000\n",
      "55/55 [==============================] - 0s 2ms/step - loss: 0.0109\n",
      "Epoch 425/1000\n",
      "55/55 [==============================] - 0s 2ms/step - loss: 0.0109\n",
      "Epoch 426/1000\n",
      "55/55 [==============================] - 0s 2ms/step - loss: 0.0109\n",
      "Epoch 427/1000\n",
      "55/55 [==============================] - 0s 2ms/step - loss: 0.0109\n",
      "Epoch 428/1000\n",
      "55/55 [==============================] - 0s 2ms/step - loss: 0.0109\n",
      "Epoch 429/1000\n",
      "55/55 [==============================] - 0s 2ms/step - loss: 0.0109\n",
      "Epoch 430/1000\n",
      "55/55 [==============================] - 0s 2ms/step - loss: 0.0109\n",
      "Epoch 431/1000\n",
      "55/55 [==============================] - 0s 2ms/step - loss: 0.0109\n",
      "Epoch 432/1000\n",
      "55/55 [==============================] - 0s 2ms/step - loss: 0.0109\n",
      "Epoch 433/1000\n",
      "55/55 [==============================] - 0s 2ms/step - loss: 0.0109\n",
      "Epoch 434/1000\n",
      "55/55 [==============================] - 0s 2ms/step - loss: 0.0109\n",
      "Epoch 435/1000\n",
      "55/55 [==============================] - 0s 2ms/step - loss: 0.0108\n",
      "Epoch 436/1000\n",
      "55/55 [==============================] - 0s 2ms/step - loss: 0.0109\n",
      "Epoch 437/1000\n",
      "55/55 [==============================] - 0s 2ms/step - loss: 0.0108\n",
      "Epoch 438/1000\n",
      "55/55 [==============================] - 0s 2ms/step - loss: 0.0108\n",
      "Epoch 439/1000\n",
      "55/55 [==============================] - 0s 2ms/step - loss: 0.0108\n",
      "Epoch 440/1000\n",
      "55/55 [==============================] - 0s 2ms/step - loss: 0.0108\n",
      "Epoch 441/1000\n",
      "55/55 [==============================] - 0s 2ms/step - loss: 0.0108\n",
      "Epoch 442/1000\n",
      "55/55 [==============================] - 0s 2ms/step - loss: 0.0108\n",
      "Epoch 443/1000\n",
      "55/55 [==============================] - 0s 2ms/step - loss: 0.0108\n",
      "Epoch 444/1000\n",
      "55/55 [==============================] - 0s 2ms/step - loss: 0.0107\n",
      "Epoch 445/1000\n",
      "55/55 [==============================] - 0s 2ms/step - loss: 0.0108\n",
      "Epoch 446/1000\n",
      "55/55 [==============================] - 0s 2ms/step - loss: 0.0108\n",
      "Epoch 447/1000\n",
      "55/55 [==============================] - 0s 2ms/step - loss: 0.0107\n",
      "Epoch 448/1000\n",
      "55/55 [==============================] - 0s 2ms/step - loss: 0.0107\n",
      "Epoch 449/1000\n",
      "55/55 [==============================] - 0s 3ms/step - loss: 0.0107\n",
      "Epoch 450/1000\n",
      "55/55 [==============================] - 0s 2ms/step - loss: 0.0107\n",
      "Epoch 451/1000\n",
      "55/55 [==============================] - 0s 2ms/step - loss: 0.0108\n",
      "Epoch 452/1000\n",
      "55/55 [==============================] - 0s 2ms/step - loss: 0.0107\n",
      "Epoch 453/1000\n",
      "55/55 [==============================] - 0s 2ms/step - loss: 0.0107\n",
      "Epoch 454/1000\n",
      "55/55 [==============================] - 0s 2ms/step - loss: 0.0107\n"
     ]
    }
   ],
   "source": [
    "es_callback = keras.callbacks.EarlyStopping(monitor='loss', patience=5, min_delta=1e-5)\n",
    "\n",
    "autoencoder.compile(optimizer=pretrain_optimizer, loss='mse')\n",
    "autoencoder.fit(x, x, batch_size=batch_size, epochs=pretrain_epochs, callbacks=[es_callback])\n",
    "autoencoder.save_weights(save_dir + '/ae_weights.h5')"
   ]
  },
  {
   "cell_type": "code",
   "execution_count": 17,
   "metadata": {},
   "outputs": [],
   "source": [
    "autoencoder.save_weights(save_dir + '/ae_weights.h5')"
   ]
  },
  {
   "cell_type": "markdown",
   "metadata": {},
   "source": [
    "### Load the pre-trained auto encoder weights"
   ]
  },
  {
   "cell_type": "code",
   "execution_count": 15,
   "metadata": {},
   "outputs": [],
   "source": [
    "autoencoder.load_weights(save_dir + '/ae_weights.h5')"
   ]
  },
  {
   "cell_type": "markdown",
   "metadata": {},
   "source": [
    "## Build clustering model"
   ]
  },
  {
   "cell_type": "markdown",
   "metadata": {},
   "source": [
    "### ClusteringLayer"
   ]
  },
  {
   "cell_type": "code",
   "execution_count": 26,
   "metadata": {},
   "outputs": [],
   "source": [
    "class ClusteringLayer(Layer):\n",
    "    \"\"\"\n",
    "    Clustering layer converts input sample (feature) to soft label, i.e. a vector that represents the probability of the\n",
    "    sample belonging to each cluster. The probability is calculated with student's t-distribution.\n",
    "\n",
    "    # Example\n",
    "    ```\n",
    "        model.add(ClusteringLayer(n_clusters=10))\n",
    "    ```\n",
    "    # Arguments\n",
    "        n_clusters: number of clusters.\n",
    "        weights: list of Numpy array with shape `(n_clusters, n_features)` witch represents the initial cluster centers.\n",
    "        alpha: degrees of freedom parameter in Student's t-distribution. Default to 1.0.\n",
    "    # Input shape\n",
    "        2D tensor with shape: `(n_samples, n_features)`.\n",
    "    # Output shape\n",
    "        2D tensor with shape: `(n_samples, n_clusters)`.\n",
    "    \"\"\"\n",
    "\n",
    "    def __init__(self, n_clusters, weights=None, alpha=1.0, **kwargs):\n",
    "        if 'input_shape' not in kwargs and 'input_dim' in kwargs:\n",
    "            kwargs['input_shape'] = (kwargs.pop('input_dim'),)\n",
    "        super(ClusteringLayer, self).__init__(**kwargs)\n",
    "        self.n_clusters = n_clusters\n",
    "        self.alpha = alpha\n",
    "        self.initial_weights = weights\n",
    "        self.input_spec = InputSpec(ndim=2)\n",
    "\n",
    "    def build(self, input_shape):\n",
    "        assert len(input_shape) == 2\n",
    "        input_dim = input_shape[1]\n",
    "        self.input_spec = InputSpec(dtype=K.floatx(), shape=(None, input_dim))\n",
    "        self.clusters = self.add_weight(\n",
    "                                shape=(self.n_clusters, input_dim),\n",
    "                                initializer='glorot_uniform',\n",
    "                                name='clusters',\n",
    "                                )\n",
    "        if self.initial_weights is not None:\n",
    "            self.set_weights(self.initial_weights)\n",
    "            del self.initial_weights\n",
    "        self.built = True\n",
    "\n",
    "    def call(self, inputs, **kwargs):\n",
    "        \"\"\" student t-distribution, as same as used in t-SNE algorithm.\n",
    "         Measure the similarity between embedded point z_i and centroid µ_j.\n",
    "                 q_ij = 1/(1+dist(x_i, µ_j)^2), then normalize it.\n",
    "                 q_ij can be interpreted as the probability of assigning sample i to cluster j.\n",
    "                 (i.e., a soft assignment)\n",
    "        Arguments:\n",
    "            inputs: the variable containing data, shape=(n_samples, n_features)\n",
    "        Return:\n",
    "            q: student's t-distribution, or soft labels for each sample. shape=(n_samples, n_clusters)\n",
    "        \"\"\"\n",
    "        q = 1.0 / (1.0 + (K.sum(K.square(K.expand_dims(inputs, axis=1) - self.clusters), axis=2) / self.alpha))\n",
    "        q **= (self.alpha + 1.0) / 2.0\n",
    "        q = K.transpose(K.transpose(q) / K.sum(q, axis=1)) # Make sure each sample's 10 values add up to 1.\n",
    "        return q\n",
    "\n",
    "    def compute_output_shape(self, input_shape):\n",
    "        assert input_shape and len(input_shape) == 2\n",
    "        return input_shape[0], self.n_clusters\n",
    "\n",
    "    def get_config(self):\n",
    "        config = {'n_clusters': self.n_clusters}\n",
    "        base_config = super(ClusteringLayer, self).get_config()\n",
    "        return dict(list(base_config.items()) + list(config.items()))\n"
   ]
  },
  {
   "cell_type": "code",
   "execution_count": 17,
   "metadata": {},
   "outputs": [],
   "source": [
    "clustering_layer = ClusteringLayer(n_clusters, name='clustering')(encoder.output)\n",
    "model = Model(inputs=encoder.input, outputs=clustering_layer)"
   ]
  },
  {
   "cell_type": "code",
   "execution_count": 18,
   "metadata": {},
   "outputs": [],
   "source": [
    "from keras.utils import plot_model\n",
    "plot_model(model, to_file='model.png', show_shapes=True)\n",
    "from IPython.display import Image\n",
    "# Image(filename='model.png') \n"
   ]
  },
  {
   "cell_type": "code",
   "execution_count": 19,
   "metadata": {},
   "outputs": [],
   "source": [
    "model.compile(optimizer=SGD(0.01, 0.9), loss='kld')"
   ]
  },
  {
   "cell_type": "markdown",
   "metadata": {},
   "source": [
    "### Step 1: initialize cluster centers using k-means"
   ]
  },
  {
   "cell_type": "code",
   "execution_count": 20,
   "metadata": {},
   "outputs": [
    {
     "name": "stdout",
     "output_type": "stream",
     "text": [
      "435/435 [==============================] - 0s 832us/step\n"
     ]
    }
   ],
   "source": [
    "kmeans = KMeans(n_clusters=n_clusters, n_init=20)\n",
    "y_pred = kmeans.fit_predict(encoder.predict(x))"
   ]
  },
  {
   "cell_type": "code",
   "execution_count": 21,
   "metadata": {},
   "outputs": [],
   "source": [
    "y_pred_last = np.copy(y_pred)"
   ]
  },
  {
   "cell_type": "code",
   "execution_count": 22,
   "metadata": {},
   "outputs": [],
   "source": [
    "model.get_layer(name='clustering').set_weights([kmeans.cluster_centers_])"
   ]
  },
  {
   "cell_type": "markdown",
   "metadata": {},
   "source": [
    "### Step 2: deep clustering\n"
   ]
  },
  {
   "cell_type": "markdown",
   "metadata": {},
   "source": [
    "Compute p_i by first raising q_i to the second power and then normalizing by frequency per cluster:"
   ]
  },
  {
   "cell_type": "code",
   "execution_count": 40,
   "metadata": {},
   "outputs": [],
   "source": [
    "# computing an auxiliary target distribution\n",
    "def target_distribution(q):\n",
    "    weight = q ** 2 / q.sum(0)\n",
    "    return (weight.T / weight.sum(1)).T"
   ]
  },
  {
   "cell_type": "code",
   "execution_count": 16,
   "metadata": {},
   "outputs": [],
   "source": [
    "loss = 0\n",
    "index = 0\n",
    "maxiter = 8000\n",
    "update_interval = 140\n",
    "index_array = np.arange(x.shape[0])"
   ]
  },
  {
   "cell_type": "code",
   "execution_count": 19,
   "metadata": {},
   "outputs": [],
   "source": [
    "tol = 0.001 # tolerance threshold to stop training"
   ]
  },
  {
   "cell_type": "markdown",
   "metadata": {},
   "source": [
    "### Start training"
   ]
  },
  {
   "cell_type": "code",
   "execution_count": 26,
   "metadata": {},
   "outputs": [
    {
     "name": "stdout",
     "output_type": "stream",
     "text": [
      "Train iterations: 8000\n",
      "Iter 0: acc = 0.38986, nmi = 0.08496, ari = 0.07950  ; loss= 0\n",
      "Iter 140: acc = 0.39066, nmi = 0.08233, ari = 0.07666  ; loss= 0.00788\n",
      "Iter 280: acc = 0.39174, nmi = 0.08078, ari = 0.07550  ; loss= 0.02133\n",
      "Iter 420: acc = 0.39188, nmi = 0.08157, ari = 0.07643  ; loss= 0.04926\n",
      "Iter 560: acc = 0.39296, nmi = 0.08194, ari = 0.07684  ; loss= 0.06119\n",
      "Iter 700: acc = 0.39282, nmi = 0.08204, ari = 0.07710  ; loss= 0.06553\n",
      "Iter 840: acc = 0.39202, nmi = 0.08185, ari = 0.07668  ; loss= 0.07151\n",
      "Iter 980: acc = 0.39296, nmi = 0.08205, ari = 0.07663  ; loss= 0.04096\n",
      "Iter 1120: acc = 0.39339, nmi = 0.08235, ari = 0.07704  ; loss= 0.06311\n",
      "Iter 1260: acc = 0.39246, nmi = 0.08255, ari = 0.07708  ; loss= 0.03753\n",
      "Iter 1400: acc = 0.39238, nmi = 0.08247, ari = 0.07707  ; loss= 0.05905\n",
      "Iter 1540: acc = 0.39217, nmi = 0.08267, ari = 0.07722  ; loss= 0.03431\n",
      "Iter 1680: acc = 0.39217, nmi = 0.08216, ari = 0.07678  ; loss= 0.05792\n",
      "Iter 1820: acc = 0.39267, nmi = 0.08273, ari = 0.07734  ; loss= 0.05473\n",
      "Iter 1960: acc = 0.39231, nmi = 0.08275, ari = 0.07734  ; loss= 0.05446\n",
      "Iter 2100: acc = 0.39238, nmi = 0.08268, ari = 0.07729  ; loss= 0.04672\n",
      "delta_label  0.0005038871292830406 < tol  0.001\n",
      "Reached tolerance threshold. Stopping training.\n"
     ]
    }
   ],
   "source": [
    "print(f\"Train iterations: {maxiter}\")\n",
    "for ite in range(int(maxiter)):\n",
    "    if ite % update_interval == 0:\n",
    "        q = model.predict(x, verbose=0)\n",
    "        p = target_distribution(q)  # update the auxiliary target distribution p\n",
    "\n",
    "        # evaluate the clustering performance\n",
    "        y_pred = q.argmax(1)\n",
    "        if y is not None:\n",
    "            accu = np.round(metrics.acc(y, y_pred), 5)\n",
    "            nmi = np.round(metrics.nmi(y, y_pred), 5)\n",
    "            ari = np.round(metrics.ari(y, y_pred), 5)\n",
    "            loss = np.round(loss, 5)\n",
    "            print(\n",
    "                f\"Iter {ite}: acc = {accu:.5f}, \"\n",
    "                f\"nmi = {nmi:.5f}, ari = {ari:.5f}\"\n",
    "                f\" ; loss={loss}\")\n",
    "\n",
    "        # check stop criterion - model convergence\n",
    "        delta_label = np.sum(y_pred != y_pred_last).astype(np.float32) / y_pred.shape[0]\n",
    "        y_pred_last = np.copy(y_pred)\n",
    "        if ite > 0 and delta_label < tol:\n",
    "            print('delta_label ', delta_label, '< tol ', tol)\n",
    "            print('Reached tolerance threshold. Stopping training.')\n",
    "            break\n",
    "    idx = index_array[index * batch_size: min((index+1) * batch_size, x.shape[0])]\n",
    "    loss = model.train_on_batch(x=x[idx], y=p[idx])\n",
    "    index = index + 1 if (index + 1) * batch_size <= x.shape[0] else 0\n",
    "\n",
    "model.save_weights(save_dir + '/DEC_model_final.h5')"
   ]
  },
  {
   "cell_type": "markdown",
   "metadata": {},
   "source": [
    "### Load the clustering model trained weights"
   ]
  },
  {
   "cell_type": "code",
   "execution_count": 27,
   "metadata": {},
   "outputs": [],
   "source": [
    "model.load_weights(save_dir + '/DEC_model_final.h5')"
   ]
  },
  {
   "cell_type": "markdown",
   "metadata": {},
   "source": [
    "### Final Evaluation"
   ]
  },
  {
   "cell_type": "code",
   "execution_count": 15,
   "metadata": {},
   "outputs": [],
   "source": [
    "%reload_ext autoreload\n",
    "%autoreload 2\n",
    "\n",
    "import numpy as np\n",
    "from keras_model import make_model, train_model, target_distribution\n",
    "from data import load_data\n",
    "import metrics"
   ]
  },
  {
   "cell_type": "code",
   "execution_count": null,
   "metadata": {},
   "outputs": [],
   "source": [
    "\n",
    "x, y, mapping = load_data(10000)\n",
    "\n",
    "model, y_pred =  make_model(x, y)\n"
   ]
  },
  {
   "cell_type": "code",
   "execution_count": 17,
   "metadata": {},
   "outputs": [
    {
     "name": "stdout",
     "output_type": "stream",
     "text": [
      "Train iterations: 10000\n",
      "Iter 0: acc = 0.40426, nmi = 0.08102, ari = 0.07318 ; loss=0\n",
      "Iter 140: acc = 0.40448, nmi = 0.08105, ari = 0.07324 ; loss=0.0579\n",
      "delta_label  0.0005758710048949035 < tol  0.001\n",
      "Reached tolerance threshold. Stopping training.\n"
     ]
    }
   ],
   "source": [
    "%reload_ext autoreload\n",
    "%autoreload 2\n",
    "\n",
    "loss = train_model(x=x, y=y, model=model,  y_pred=y_pred, max_iter=10000)\n",
    "\n"
   ]
  },
  {
   "cell_type": "code",
   "execution_count": 18,
   "metadata": {},
   "outputs": [
    {
     "name": "stdout",
     "output_type": "stream",
     "text": [
      "Acc = 0.40448, nmi = 0.08105, ari = 0.07324  ; loss= 0.0579\n"
     ]
    }
   ],
   "source": [
    "# Eval.\n",
    "q = model.predict(x, verbose=0)\n",
    "p = target_distribution(q)  # update the auxiliary target distribution p\n",
    "\n",
    "# evaluate the clustering performance\n",
    "y_pred = q.argmax(1)\n",
    "if y is not None:\n",
    "    acc = np.round(metrics.acc(y, y_pred), 5)\n",
    "    nmi = np.round(metrics.nmi(y, y_pred), 5)\n",
    "    ari = np.round(metrics.ari(y, y_pred), 5)\n",
    "    loss = np.round(loss, 5)\n",
    "    print('Acc = %.5f, nmi = %.5f, ari = %.5f' % (acc, nmi, ari), ' ; loss=', loss)"
   ]
  },
  {
   "cell_type": "code",
   "execution_count": 19,
   "metadata": {},
   "outputs": [],
   "source": [
    "import seaborn as sns\n",
    "import sklearn.metrics\n",
    "import matplotlib.pyplot as plt\n",
    "sns.set(font_scale=3)\n",
    "confusion_matrix = sklearn.metrics.confusion_matrix(y, y_pred)"
   ]
  },
  {
   "cell_type": "code",
   "execution_count": 20,
   "metadata": {},
   "outputs": [],
   "source": [
    "entity_label_tups = [(k,v) for k,v in mapping.items()]\n",
    "entity_labels = [v for v,v in sorted(entity_label_tups, key=lambda tup: tup[0])]\n",
    "x_labels = entity_labels\n",
    "\n",
    "y_labels = reversed(entity_labels)"
   ]
  },
  {
   "cell_type": "code",
   "execution_count": 21,
   "metadata": {},
   "outputs": [
    {
     "data": {
      "image/png": "[encoded data removed]",
      "text/plain": [
       "<Figure size 576x504 with 1 Axes>"
      ]
     },
     "metadata": {},
     "output_type": "display_data"
    }
   ],
   "source": [
    "# re-order confusion matrix into a diagonal\n",
    "\n",
    "for y_hat in range(len(confusion_matrix)):\n",
    "    max = np.argmax(confusion_matrix[y_hat])\n",
    "    confusion_matrix.T[[y_hat, max]] = confusion_matrix.T[[max, y_hat]]\n",
    "plt.figure(figsize=(8,7))\n",
    "sns.set_context(\"notebook\", font_scale=1, rc={\"lines.linewidth\": 2.5})\n",
    "\n",
    "sns.heatmap(\n",
    "    confusion_matrix,\n",
    "    annot=True,\n",
    "    fmt=\"d\",\n",
    "    cmap=sns.color_palette(\"crest\", as_cmap=True),\n",
    "    cbar=False,\n",
    "    annot_kws={\"size\": 20},\n",
    "    xticklabels=entity_labels,\n",
    "    yticklabels=entity_labels,\n",
    "    )\n",
    "plt.title(\"Confusion matrix\\n\", fontsize=20)\n",
    "plt.ylabel('True label', fontsize=20)\n",
    "plt.xlabel('Cluster label', fontsize=20)\n",
    "plt.show()"
   ]
  },
  {
   "cell_type": "code",
   "execution_count": 22,
   "metadata": {},
   "outputs": [
    {
     "name": "stderr",
     "output_type": "stream",
     "text": [
      "c:\\Users\\Will\\Anaconda3\\envs\\tf-27\\lib\\site-packages\\sklearn\\manifold\\_t_sne.py:800: FutureWarning: The default initialization in TSNE will change from 'random' to 'pca' in 1.2.\n",
      "  warnings.warn(\n"
     ]
    },
    {
     "name": "stdout",
     "output_type": "stream",
     "text": [
      "[t-SNE] Computing 91 nearest neighbors...\n",
      "[t-SNE] Indexed 13892 samples in 0.007s...\n",
      "[t-SNE] Computed neighbors for 13892 samples in 0.966s...\n",
      "[t-SNE] Computed conditional probabilities for sample 1000 / 13892\n",
      "[t-SNE] Computed conditional probabilities for sample 2000 / 13892\n",
      "[t-SNE] Computed conditional probabilities for sample 3000 / 13892\n",
      "[t-SNE] Computed conditional probabilities for sample 4000 / 13892\n",
      "[t-SNE] Computed conditional probabilities for sample 5000 / 13892\n",
      "[t-SNE] Computed conditional probabilities for sample 6000 / 13892\n",
      "[t-SNE] Computed conditional probabilities for sample 7000 / 13892\n",
      "[t-SNE] Computed conditional probabilities for sample 8000 / 13892\n",
      "[t-SNE] Computed conditional probabilities for sample 9000 / 13892\n",
      "[t-SNE] Computed conditional probabilities for sample 10000 / 13892\n",
      "[t-SNE] Computed conditional probabilities for sample 11000 / 13892\n",
      "[t-SNE] Computed conditional probabilities for sample 12000 / 13892\n",
      "[t-SNE] Computed conditional probabilities for sample 13000 / 13892\n",
      "[t-SNE] Computed conditional probabilities for sample 13892 / 13892\n",
      "[t-SNE] Mean sigma: 0.000000\n",
      "[t-SNE] KL divergence after 250 iterations with early exaggeration: 91.263817\n",
      "[t-SNE] KL divergence after 10000 iterations: 1.090336\n"
     ]
    }
   ],
   "source": [
    "from sklearn.manifold import TSNE\n",
    "\n",
    "tsne = TSNE(n_components=2, verbose=1, random_state=123, n_iter=10000, learning_rate='auto')\n",
    "z = tsne.fit_transform(x)\n",
    "\n"
   ]
  },
  {
   "cell_type": "code",
   "execution_count": 23,
   "metadata": {},
   "outputs": [
    {
     "ename": "NameError",
     "evalue": "name 'pd' is not defined",
     "output_type": "error",
     "traceback": [
      "\u001b[1;31m---------------------------------------------------------------------------\u001b[0m",
      "\u001b[1;31mNameError\u001b[0m                                 Traceback (most recent call last)",
      "\u001b[1;32mc:\\Users\\Will\\Projects\\MSc\\project\\Keras-DEC.ipynb Cell 48\u001b[0m in \u001b[0;36m<cell line: 1>\u001b[1;34m()\u001b[0m\n\u001b[1;32m----> <a href='vscode-notebook-cell:/c%3A/Users/Will/Projects/MSc/project/Keras-DEC.ipynb#X63sZmlsZQ%3D%3D?line=0'>1</a>\u001b[0m df_tsne \u001b[39m=\u001b[39m pd\u001b[39m.\u001b[39mDataFrame()\n\u001b[0;32m      <a href='vscode-notebook-cell:/c%3A/Users/Will/Projects/MSc/project/Keras-DEC.ipynb#X63sZmlsZQ%3D%3D?line=1'>2</a>\u001b[0m df_tsne[\u001b[39m\"\u001b[39m\u001b[39my\u001b[39m\u001b[39m\"\u001b[39m] \u001b[39m=\u001b[39m y_pred\n\u001b[0;32m      <a href='vscode-notebook-cell:/c%3A/Users/Will/Projects/MSc/project/Keras-DEC.ipynb#X63sZmlsZQ%3D%3D?line=2'>3</a>\u001b[0m df_tsne[\u001b[39m\"\u001b[39m\u001b[39mcomp-1\u001b[39m\u001b[39m\"\u001b[39m] \u001b[39m=\u001b[39m z[:,\u001b[39m0\u001b[39m]\n",
      "\u001b[1;31mNameError\u001b[0m: name 'pd' is not defined"
     ]
    },
    {
     "ename": "",
     "evalue": "",
     "output_type": "error",
     "traceback": [
      "The Kernel crashed while executing code in the the current cell or a previous cell. Please review the code in the cell(s) to identify a possible cause of the failure. Click <a href='https://aka.ms/vscodeJupyterKernelCrash'>here</a> for more info. View Jupyter <a href='command:jupyter.viewOutput'>log</a> for further details."
     ]
    }
   ],
   "source": [
    "df_tsne = pd.DataFrame()\n",
    "df_tsne[\"y\"] = y_pred\n",
    "df_tsne[\"comp-1\"] = z[:,0]\n",
    "df_tsne[\"comp-2\"] = z[:,1]\n",
    "plt.figure(figsize=(18,14))\n",
    "sns.scatterplot(x=\"comp-1\", y=\"comp-2\", hue=df_tsne.y.tolist(),\n",
    "                palette=sns.color_palette(\"hls\", len(entity_labels)),\n",
    "                data=df_tsne).set(title=\"Labelled embeddings T-SNE projection\") "
   ]
  },
  {
   "cell_type": "code",
   "execution_count": null,
   "metadata": {},
   "outputs": [
    {
     "name": "stdout",
     "output_type": "stream",
     "text": [
      "Done\n"
     ]
    }
   ],
   "source": [
    "print(\"Done\")"
   ]
  },
  {
   "cell_type": "markdown",
   "metadata": {},
   "source": [
    "### Break down Accuracy metric\n",
    "\n",
    "linear assignment- [Munkres' Assignment Algorithm](http://csclab.murraystate.edu/~bob.pilgrim/445/munkres.html)"
   ]
  },
  {
   "cell_type": "code",
   "execution_count": 44,
   "metadata": {},
   "outputs": [
    {
     "ename": "TypeError",
     "evalue": "'numpy.int64' object is not callable",
     "output_type": "error",
     "traceback": [
      "\u001b[1;31m---------------------------------------------------------------------------\u001b[0m",
      "\u001b[1;31mTypeError\u001b[0m                                 Traceback (most recent call last)",
      "\u001b[1;32mc:\\Users\\Will\\Projects\\MSc\\project\\Keras-DEC.ipynb Cell 46\u001b[0m in \u001b[0;36m<cell line: 4>\u001b[1;34m()\u001b[0m\n\u001b[0;32m      <a href='vscode-notebook-cell:/c%3A/Users/Will/Projects/MSc/project/Keras-DEC.ipynb#X61sZmlsZQ%3D%3D?line=0'>1</a>\u001b[0m \u001b[39mfrom\u001b[39;00m \u001b[39mlinear_assignment\u001b[39;00m \u001b[39mimport\u001b[39;00m linear_assignment\n\u001b[0;32m      <a href='vscode-notebook-cell:/c%3A/Users/Will/Projects/MSc/project/Keras-DEC.ipynb#X61sZmlsZQ%3D%3D?line=2'>3</a>\u001b[0m y_true \u001b[39m=\u001b[39m y\u001b[39m.\u001b[39mastype(np\u001b[39m.\u001b[39mint64)\n\u001b[1;32m----> <a href='vscode-notebook-cell:/c%3A/Users/Will/Projects/MSc/project/Keras-DEC.ipynb#X61sZmlsZQ%3D%3D?line=3'>4</a>\u001b[0m D \u001b[39m=\u001b[39m \u001b[39mmax\u001b[39;49m(y_pred\u001b[39m.\u001b[39;49mmax(), y_true\u001b[39m.\u001b[39;49mmax()) \u001b[39m+\u001b[39m \u001b[39m1\u001b[39m\n\u001b[0;32m      <a href='vscode-notebook-cell:/c%3A/Users/Will/Projects/MSc/project/Keras-DEC.ipynb#X61sZmlsZQ%3D%3D?line=4'>5</a>\u001b[0m w \u001b[39m=\u001b[39m np\u001b[39m.\u001b[39mzeros((D, D), dtype\u001b[39m=\u001b[39mnp\u001b[39m.\u001b[39mint64)\n\u001b[0;32m      <a href='vscode-notebook-cell:/c%3A/Users/Will/Projects/MSc/project/Keras-DEC.ipynb#X61sZmlsZQ%3D%3D?line=5'>6</a>\u001b[0m \u001b[39m# Confusion matrix.\u001b[39;00m\n",
      "\u001b[1;31mTypeError\u001b[0m: 'numpy.int64' object is not callable"
     ]
    }
   ],
   "source": [
    "from linear_assignment import linear_assignment\n",
    "\n",
    "y_true = y.astype(np.int64)\n",
    "D = max(y_pred.max(), y_true.max()) + 1\n",
    "w = np.zeros((D, D), dtype=np.int64)\n",
    "# Confusion matrix.\n",
    "for i in range(y_pred.size):\n",
    "    w[y_pred[i], y_true[i]] += 1\n",
    "ind = linear_assignment(-w)\n",
    "\n",
    "sum([w[i, j] for i, j in ind]) * 1.0 / y_pred.size"
   ]
  },
  {
   "cell_type": "code",
   "execution_count": 32,
   "metadata": {},
   "outputs": [
    {
     "data": {
      "text/plain": [
       "array([[   7,   17,    2,  111,    0, 6102,  229,    2,   63,   17],\n",
       "       [   1,   25,   41,   55,    5,    2,    0, 6992,    7,  116],\n",
       "       [   8,   11,    8,   18,  108,   23,    0,   91,  105, 6488],\n",
       "       [  29,    4,   38,    4,   31,   35, 6569,    0,   15,    6],\n",
       "       [  42,   46,   65,   64,    6,   19,   10,    4, 6488,   63],\n",
       "       [   0, 7638,    7,    4,    4,    3,   12,   27,   22,    9],\n",
       "       [6798,    1,   25,    2,    6,   18,   35,    7,   13,   29],\n",
       "       [   1,   27,   35, 6759,    0,   89,    0,    3,   64,  121],\n",
       "       [  10,   13,   62,    1, 6648,   10,   17,   62,   13,  103],\n",
       "       [   7,   95, 6707,  123,   16,   12,    4,  105,   35,    6]],\n",
       "      dtype=int64)"
      ]
     },
     "execution_count": 32,
     "metadata": {},
     "output_type": "execute_result"
    }
   ],
   "source": [
    "w"
   ]
  },
  {
   "cell_type": "code",
   "execution_count": 33,
   "metadata": {},
   "outputs": [
    {
     "data": {
      "text/plain": [
       "array([[0, 5],\n",
       "       [1, 7],\n",
       "       [2, 9],\n",
       "       [3, 6],\n",
       "       [4, 8],\n",
       "       [5, 1],\n",
       "       [6, 0],\n",
       "       [7, 3],\n",
       "       [8, 4],\n",
       "       [9, 2]])"
      ]
     },
     "execution_count": 33,
     "metadata": {},
     "output_type": "execute_result"
    }
   ],
   "source": [
    "ind"
   ]
  },
  {
   "cell_type": "code",
   "execution_count": 34,
   "metadata": {},
   "outputs": [
    {
     "data": {
      "text/plain": [
       "array([5, 7, 9, 6, 8, 1, 0, 3, 4, 2], dtype=int64)"
      ]
     },
     "execution_count": 34,
     "metadata": {},
     "output_type": "execute_result"
    }
   ],
   "source": [
    "w.argmax(1)"
   ]
  },
  {
   "cell_type": "markdown",
   "metadata": {},
   "source": [
    "## Experimental\n",
    "Convolutional auto encoder."
   ]
  },
  {
   "cell_type": "markdown",
   "metadata": {},
   "source": [
    "## Model to train clustering and autoencoder at same time\n",
    "Multiple outputs model."
   ]
  },
  {
   "cell_type": "code",
   "execution_count": null,
   "metadata": {},
   "outputs": [],
   "source": [
    "import tensorflow as tf\n",
    "from tensorflow import keras\n",
    "import tensorflow.keras.backend as K\n",
    "from keras.datasets import mnist\n",
    "import numpy as np\n",
    "np.random.seed(10)\n",
    "from time import time\n",
    "from keras.layers import Layer, InputSpec\n",
    "from keras.layers import Dense, Input\n",
    "from keras.models import Model\n",
    "from keras.optimizers import SGD\n",
    "from keras import callbacks\n",
    "from keras.initializers import VarianceScaling\n",
    "from sklearn.cluster import KMeans\n",
    "import numpy as np\n",
    "import matplotlib.pyplot as plt\n",
    "import pandas as pd\n",
    "import metrics"
   ]
  },
  {
   "cell_type": "code",
   "execution_count": 11,
   "metadata": {},
   "outputs": [],
   "source": [
    "autoencoder, encoder = autoencoder_model(dims, init=init)\n",
    "autoencoder.load_weights(save_dir+'/ae_weights.h5')\n",
    "clustering_layer = ClusteringLayer(n_clusters, name='clustering')(encoder.output)\n",
    "model = Model(inputs=encoder.input,\n",
    "                           outputs=[clustering_layer, autoencoder.output])"
   ]
  },
  {
   "cell_type": "code",
   "execution_count": 12,
   "metadata": {},
   "outputs": [
    {
     "data": {
      "image/png": "[encoded data removed]",
      "text/plain": [
       "<IPython.core.display.Image object>"
      ]
     },
     "execution_count": 12,
     "metadata": {},
     "output_type": "execute_result"
    }
   ],
   "source": [
    "from keras.utils import plot_model\n",
    "plot_model(model, to_file='model.png', show_shapes=True)\n",
    "from IPython.display import Image\n",
    "Image(filename='model.png') \n"
   ]
  },
  {
   "cell_type": "markdown",
   "metadata": {},
   "source": [
    "### Initialize cluster centers using k-means"
   ]
  },
  {
   "cell_type": "code",
   "execution_count": 13,
   "metadata": {},
   "outputs": [
    {
     "name": "stdout",
     "output_type": "stream",
     "text": [
      "7/7 [==============================] - 1s 1ms/step\n"
     ]
    },
    {
     "name": "stderr",
     "output_type": "stream",
     "text": [
      "c:\\Users\\Will\\Anaconda3\\envs\\tf-27\\lib\\site-packages\\sklearn\\cluster\\_kmeans.py:1334: UserWarning: KMeans is known to have a memory leak on Windows with MKL, when there are less chunks than available threads. You can avoid it by setting the environment variable OMP_NUM_THREADS=1.\n",
      "  warnings.warn(\n"
     ]
    }
   ],
   "source": [
    "kmeans = KMeans(n_clusters=n_clusters, n_init=20)\n",
    "y_pred = kmeans.fit_predict(encoder.predict(x))\n",
    "model.get_layer(name='clustering').set_weights([kmeans.cluster_centers_])\n",
    "y_pred_last = np.copy(y_pred)"
   ]
  },
  {
   "cell_type": "code",
   "execution_count": 14,
   "metadata": {},
   "outputs": [],
   "source": [
    "model.compile(loss=['kld', 'mse'], loss_weights=[0.1, 1], optimizer='adam')"
   ]
  },
  {
   "cell_type": "code",
   "execution_count": 23,
   "metadata": {},
   "outputs": [
    {
     "name": "stdout",
     "output_type": "stream",
     "text": [
      "Iter 0: acc = 0.42157, nmi = 0.18652, ari = 0.11762  ; loss= 0\n",
      "Iter 140: acc = 0.42647, nmi = 0.18673, ari = 0.12350  ; loss= [0.00369 0.00391 0.0033 ]\n",
      "Iter 280: acc = 0.42647, nmi = 0.18073, ari = 0.12080  ; loss= [0.0029  0.01868 0.00103]\n",
      "Iter 420: acc = 0.44118, nmi = 0.19519, ari = 0.13638  ; loss= [0.00319 0.02573 0.00061]\n",
      "Iter 560: acc = 0.44118, nmi = 0.21428, ari = 0.14889  ; loss= [0.00346 0.02908 0.00055]\n",
      "Iter 700: acc = 0.44118, nmi = 0.21428, ari = 0.14889  ; loss= [0.00334 0.02679 0.00066]\n",
      "delta_label  0.0 < tol  0.001\n",
      "Reached tolerance threshold. Stopping training.\n"
     ]
    }
   ],
   "source": [
    "for ite in range(int(maxiter)):\n",
    "    if ite % update_interval == 0:\n",
    "        q, _  = model.predict(x, verbose=0)\n",
    "        p = target_distribution(q)  # update the auxiliary target distribution p\n",
    "\n",
    "        # evaluate the clustering performance\n",
    "        y_pred = q.argmax(1)\n",
    "        if y is not None:\n",
    "            accu = np.round(metrics.acc(y, y_pred), 5)\n",
    "            nmi = np.round(metrics.nmi(y, y_pred), 5)\n",
    "            ari = np.round(metrics.ari(y, y_pred), 5)\n",
    "            loss = np.round(loss, 5)\n",
    "            print(\n",
    "                f\"Iter {ite}: acc = {accu:.5f}, \"\n",
    "                f\"nmi = {nmi:.5f}, ari = {ari:.5f}\"\n",
    "                f\" ; loss={loss}\")\n",
    "        # check stop criterion\n",
    "        delta_label = np.sum(y_pred != y_pred_last).astype(np.float32) / y_pred.shape[0]\n",
    "        y_pred_last = np.copy(y_pred)\n",
    "        if ite > 0 and delta_label < tol:\n",
    "            print('delta_label ', delta_label, '< tol ', tol)\n",
    "            print('Reached tolerance threshold. Stopping training.')\n",
    "            break\n",
    "    idx = index_array[index * batch_size: min((index+1) * batch_size, x.shape[0])]\n",
    "    loss = model.train_on_batch(x=x[idx], y=[p[idx], x[idx]])\n",
    "    index = index + 1 if (index + 1) * batch_size <= x.shape[0] else 0\n",
    "\n",
    "model.save_weights(save_dir + '/b_DEC_model_final.h5')"
   ]
  },
  {
   "cell_type": "markdown",
   "metadata": {},
   "source": [
    "### Load the clustering model trained weights"
   ]
  },
  {
   "cell_type": "code",
   "execution_count": 24,
   "metadata": {},
   "outputs": [],
   "source": [
    "model.load_weights(save_dir + '/b_DEC_model_final.h5')"
   ]
  },
  {
   "cell_type": "markdown",
   "metadata": {},
   "source": [
    "### Final Evaluation"
   ]
  },
  {
   "cell_type": "code",
   "execution_count": 25,
   "metadata": {},
   "outputs": [
    {
     "name": "stdout",
     "output_type": "stream",
     "text": [
      "Acc = 0.44118, nmi = 0.21428, ari = 0.14889  ; loss= [0.00334 0.02679 0.00066]\n"
     ]
    }
   ],
   "source": [
    "# Eval.\n",
    "q, _ = model.predict(x, verbose=0)\n",
    "p = target_distribution(q)  # update the auxiliary target distribution p\n",
    "\n",
    "# evaluate the clustering performance\n",
    "y_pred = q.argmax(1)\n",
    "if y is not None:\n",
    "    acc = np.round(metrics.acc(y, y_pred), 5)\n",
    "    nmi = np.round(metrics.nmi(y, y_pred), 5)\n",
    "    ari = np.round(metrics.ari(y, y_pred), 5)\n",
    "    loss = np.round(loss, 5)\n",
    "    print('Acc = %.5f, nmi = %.5f, ari = %.5f' % (acc, nmi, ari), ' ; loss=', loss)"
   ]
  },
  {
   "cell_type": "code",
   "execution_count": 26,
   "metadata": {},
   "outputs": [
    {
     "data": {
      "image/png": "[encoded data removed]",
      "text/plain": [
       "<Figure size 1152x1008 with 2 Axes>"
      ]
     },
     "metadata": {},
     "output_type": "display_data"
    }
   ],
   "source": [
    "import seaborn as sns\n",
    "import sklearn.metrics\n",
    "import matplotlib.pyplot as plt\n",
    "sns.set(font_scale=3)\n",
    "confusion_matrix = sklearn.metrics.confusion_matrix(y, y_pred)\n",
    "\n",
    "plt.figure(figsize=(16, 14))\n",
    "sns.heatmap(confusion_matrix, annot=True, fmt=\"d\", annot_kws={\"size\": 20});\n",
    "plt.title(\"Confusion matrix\", fontsize=30)\n",
    "plt.ylabel('True label', fontsize=25)\n",
    "plt.xlabel('Clustering label', fontsize=25)\n",
    "plt.show()"
   ]
  },
  {
   "cell_type": "markdown",
   "metadata": {},
   "source": [
    "## Model to train clustering and autoencoder at same time(Fully connected)\n",
    "Multiple outputs model."
   ]
  },
  {
   "cell_type": "code",
   "execution_count": 19,
   "metadata": {},
   "outputs": [],
   "source": [
    "import tensorflow as tf\n",
    "from tensorflow import keras\n",
    "import tensorflow.keras.backend as K\n",
    "from keras.datasets import mnist\n",
    "import numpy as np\n",
    "np.random.seed(10)\n",
    "from time import time\n",
    "from keras.layers import Layer, InputSpec\n",
    "from keras.layers import Dense, Input\n",
    "from keras.models import Model\n",
    "from keras.optimizers import SGD\n",
    "from keras import callbacks\n",
    "from keras.initializers import VarianceScaling\n",
    "from sklearn.cluster import KMeans\n",
    "import numpy as np\n",
    "import matplotlib.pyplot as plt\n",
    "import pandas as pd\n",
    "import metrics"
   ]
  },
  {
   "cell_type": "code",
   "execution_count": 20,
   "metadata": {},
   "outputs": [
    {
     "name": "stdout",
     "output_type": "stream",
     "text": [
      "Loading ./data/conll_spacy_10000.pkl\n",
      "Done: (10074, 772)\n",
      "{1: 'ORG', 0: 'PERSON', 2: 'GPE', 3: 'LOC'}\n",
      "x: (13892, 768), y: (13892,)\n"
     ]
    },
    {
     "data": {
      "text/plain": [
       "(13892, 768)"
      ]
     },
     "execution_count": 20,
     "metadata": {},
     "output_type": "execute_result"
    }
   ],
   "source": [
    "from data import load_data\n",
    "\n",
    "x, y, mapping = load_data(10000)\n",
    "n_clusters = len(np.unique(y))\n",
    "x.shape"
   ]
  },
  {
   "cell_type": "code",
   "execution_count": 21,
   "metadata": {},
   "outputs": [
    {
     "name": "stderr",
     "output_type": "stream",
     "text": [
      "c:\\Users\\Will\\Anaconda3\\envs\\tf-27\\lib\\site-packages\\keras\\optimizers\\optimizer_v2\\gradient_descent.py:108: UserWarning: The `lr` argument is deprecated, use `learning_rate` instead.\n",
      "  super(SGD, self).__init__(name, **kwargs)\n"
     ]
    }
   ],
   "source": []
  },
  {
   "cell_type": "code",
   "execution_count": 22,
   "metadata": {},
   "outputs": [],
   "source": [
    "\n",
    "def autoencoder_model(dims, act='relu', init='glorot_uniform'):\n",
    "    \"\"\"\n",
    "    Fully connected auto-encoder model, symmetric.\n",
    "    Arguments:\n",
    "        dims: list of number of units in each layer of encoder. dims[0] is input dim, dims[-1] is units in hidden layer.\n",
    "            The decoder is symmetric with encoder. So number of layers of the auto-encoder is 2*len(dims)-1\n",
    "        act: activation, not applied to Input, Hidden and Output layers\n",
    "    return:\n",
    "        (ae_model, encoder_model), Model of autoencoder and model of encoder\n",
    "    \"\"\"\n",
    "    n_stacks = len(dims) - 1\n",
    "    # input\n",
    "    input_img = Input(shape=(dims[0],), name='input')\n",
    "    x = input_img\n",
    "    # internal layers in encoder\n",
    "    for i in range(n_stacks-1):\n",
    "        x = Dense(dims[i + 1], activation=act, kernel_initializer=init, name='encoder_%d' % i)(x)\n",
    "\n",
    "    # hidden layer\n",
    "    encoded = Dense(dims[-1], kernel_initializer=init, name='encoder_%d' % (n_stacks - 1))(x)  # hidden layer, features are extracted from here\n",
    "\n",
    "    x = encoded\n",
    "    # internal layers in decoder\n",
    "    for i in range(n_stacks-1, 0, -1):\n",
    "        x = Dense(dims[i], activation=act, kernel_initializer=init, name='decoder_%d' % i)(x)\n",
    "\n",
    "    # output\n",
    "    x = Dense(dims[0], kernel_initializer=init, name='decoder_0')(x)\n",
    "    decoded = x\n",
    "    return Model(inputs=input_img, outputs=decoded, name='AE'), Model(inputs=input_img, outputs=encoded, name='encoder')\n"
   ]
  },
  {
   "cell_type": "code",
   "execution_count": 23,
   "metadata": {},
   "outputs": [
    {
     "ename": "NameError",
     "evalue": "name 'ClusteringLayer' is not defined",
     "output_type": "error",
     "traceback": [
      "\u001b[1;31m---------------------------------------------------------------------------\u001b[0m",
      "\u001b[1;31mNameError\u001b[0m                                 Traceback (most recent call last)",
      "\u001b[1;32mc:\\Users\\Will\\Projects\\MSc\\project\\Keras-DEC.ipynb Cell 73\u001b[0m in \u001b[0;36m<cell line: 3>\u001b[1;34m()\u001b[0m\n\u001b[0;32m      <a href='vscode-notebook-cell:/c%3A/Users/Will/Projects/MSc/project/Keras-DEC.ipynb#Y132sZmlsZQ%3D%3D?line=0'>1</a>\u001b[0m autoencoder, encoder \u001b[39m=\u001b[39m autoencoder_model(dims, init\u001b[39m=\u001b[39minit)\n\u001b[0;32m      <a href='vscode-notebook-cell:/c%3A/Users/Will/Projects/MSc/project/Keras-DEC.ipynb#Y132sZmlsZQ%3D%3D?line=1'>2</a>\u001b[0m autoencoder\u001b[39m.\u001b[39mload_weights(save_dir\u001b[39m+\u001b[39m\u001b[39m'\u001b[39m\u001b[39m/ae_weights.h5\u001b[39m\u001b[39m'\u001b[39m)\n\u001b[1;32m----> <a href='vscode-notebook-cell:/c%3A/Users/Will/Projects/MSc/project/Keras-DEC.ipynb#Y132sZmlsZQ%3D%3D?line=2'>3</a>\u001b[0m clustering_layer \u001b[39m=\u001b[39m ClusteringLayer(n_clusters, name\u001b[39m=\u001b[39m\u001b[39m'\u001b[39m\u001b[39mclustering\u001b[39m\u001b[39m'\u001b[39m)(encoder\u001b[39m.\u001b[39moutput)\n\u001b[0;32m      <a href='vscode-notebook-cell:/c%3A/Users/Will/Projects/MSc/project/Keras-DEC.ipynb#Y132sZmlsZQ%3D%3D?line=3'>4</a>\u001b[0m model \u001b[39m=\u001b[39m Model(inputs\u001b[39m=\u001b[39mencoder\u001b[39m.\u001b[39minput,\n\u001b[0;32m      <a href='vscode-notebook-cell:/c%3A/Users/Will/Projects/MSc/project/Keras-DEC.ipynb#Y132sZmlsZQ%3D%3D?line=4'>5</a>\u001b[0m             outputs\u001b[39m=\u001b[39m[clustering_layer, autoencoder\u001b[39m.\u001b[39moutput])\n",
      "\u001b[1;31mNameError\u001b[0m: name 'ClusteringLayer' is not defined"
     ]
    }
   ],
   "source": [
    "autoencoder, encoder = autoencoder_model(dims, init=init)\n",
    "autoencoder.load_weights(save_dir+'/ae_weights.h5')\n",
    "clustering_layer = ClusteringLayer(n_clusters, name='clustering')(encoder.output)\n",
    "model = Model(inputs=encoder.input,\n",
    "            outputs=[clustering_layer, autoencoder.output])"
   ]
  },
  {
   "cell_type": "code",
   "execution_count": 24,
   "metadata": {},
   "outputs": [
    {
     "ename": "NameError",
     "evalue": "name 'model' is not defined",
     "output_type": "error",
     "traceback": [
      "\u001b[1;31m---------------------------------------------------------------------------\u001b[0m",
      "\u001b[1;31mNameError\u001b[0m                                 Traceback (most recent call last)",
      "\u001b[1;32mc:\\Users\\Will\\Projects\\MSc\\project\\Keras-DEC.ipynb Cell 74\u001b[0m in \u001b[0;36m<cell line: 2>\u001b[1;34m()\u001b[0m\n\u001b[0;32m      <a href='vscode-notebook-cell:/c%3A/Users/Will/Projects/MSc/project/Keras-DEC.ipynb#Y133sZmlsZQ%3D%3D?line=0'>1</a>\u001b[0m \u001b[39mfrom\u001b[39;00m \u001b[39mkeras\u001b[39;00m\u001b[39m.\u001b[39;00m\u001b[39mutils\u001b[39;00m \u001b[39mimport\u001b[39;00m plot_model\n\u001b[1;32m----> <a href='vscode-notebook-cell:/c%3A/Users/Will/Projects/MSc/project/Keras-DEC.ipynb#Y133sZmlsZQ%3D%3D?line=1'>2</a>\u001b[0m plot_model(model, to_file\u001b[39m=\u001b[39m\u001b[39m'\u001b[39m\u001b[39mmodel.png\u001b[39m\u001b[39m'\u001b[39m, show_shapes\u001b[39m=\u001b[39m\u001b[39mTrue\u001b[39;00m)\n\u001b[0;32m      <a href='vscode-notebook-cell:/c%3A/Users/Will/Projects/MSc/project/Keras-DEC.ipynb#Y133sZmlsZQ%3D%3D?line=2'>3</a>\u001b[0m \u001b[39mfrom\u001b[39;00m \u001b[39mIPython\u001b[39;00m\u001b[39m.\u001b[39;00m\u001b[39mdisplay\u001b[39;00m \u001b[39mimport\u001b[39;00m Image\n\u001b[0;32m      <a href='vscode-notebook-cell:/c%3A/Users/Will/Projects/MSc/project/Keras-DEC.ipynb#Y133sZmlsZQ%3D%3D?line=3'>4</a>\u001b[0m Image(filename\u001b[39m=\u001b[39m\u001b[39m'\u001b[39m\u001b[39mmodel.png\u001b[39m\u001b[39m'\u001b[39m)\n",
      "\u001b[1;31mNameError\u001b[0m: name 'model' is not defined"
     ]
    }
   ],
   "source": [
    "from keras.utils import plot_model\n",
    "plot_model(model, to_file='model.png', show_shapes=True)\n",
    "from IPython.display import Image\n",
    "Image(filename='model.png') "
   ]
  },
  {
   "cell_type": "markdown",
   "metadata": {},
   "source": [
    "### Initialize cluster centers using k-means"
   ]
  },
  {
   "cell_type": "code",
   "execution_count": 6,
   "metadata": {},
   "outputs": [
    {
     "name": "stdout",
     "output_type": "stream",
     "text": [
      "435/435 [==============================] - 1s 795us/step\n"
     ]
    },
    {
     "ename": "NameError",
     "evalue": "name 'model' is not defined",
     "output_type": "error",
     "traceback": [
      "\u001b[1;31m---------------------------------------------------------------------------\u001b[0m",
      "\u001b[1;31mNameError\u001b[0m                                 Traceback (most recent call last)",
      "\u001b[1;32mc:\\Users\\Will\\Projects\\MSc\\project\\Keras-DEC.ipynb Cell 76\u001b[0m in \u001b[0;36m<cell line: 3>\u001b[1;34m()\u001b[0m\n\u001b[0;32m      <a href='vscode-notebook-cell:/c%3A/Users/Will/Projects/MSc/project/Keras-DEC.ipynb#Y135sZmlsZQ%3D%3D?line=0'>1</a>\u001b[0m kmeans \u001b[39m=\u001b[39m KMeans(n_clusters\u001b[39m=\u001b[39mn_clusters, n_init\u001b[39m=\u001b[39m\u001b[39m20\u001b[39m)\n\u001b[0;32m      <a href='vscode-notebook-cell:/c%3A/Users/Will/Projects/MSc/project/Keras-DEC.ipynb#Y135sZmlsZQ%3D%3D?line=1'>2</a>\u001b[0m y_pred \u001b[39m=\u001b[39m kmeans\u001b[39m.\u001b[39mfit_predict(encoder\u001b[39m.\u001b[39mpredict(x))\n\u001b[1;32m----> <a href='vscode-notebook-cell:/c%3A/Users/Will/Projects/MSc/project/Keras-DEC.ipynb#Y135sZmlsZQ%3D%3D?line=2'>3</a>\u001b[0m model\u001b[39m.\u001b[39mget_layer(name\u001b[39m=\u001b[39m\u001b[39m'\u001b[39m\u001b[39mclustering\u001b[39m\u001b[39m'\u001b[39m)\u001b[39m.\u001b[39mset_weights([kmeans\u001b[39m.\u001b[39mcluster_centers_])\n\u001b[0;32m      <a href='vscode-notebook-cell:/c%3A/Users/Will/Projects/MSc/project/Keras-DEC.ipynb#Y135sZmlsZQ%3D%3D?line=3'>4</a>\u001b[0m y_pred_last \u001b[39m=\u001b[39m np\u001b[39m.\u001b[39mcopy(y_pred)\n",
      "\u001b[1;31mNameError\u001b[0m: name 'model' is not defined"
     ]
    }
   ],
   "source": [
    "kmeans = KMeans(n_clusters=n_clusters, n_init=20)\n",
    "y_pred = kmeans.fit_predict(encoder.predict(x))\n",
    "model.get_layer(name='clustering').set_weights([kmeans.cluster_centers_])\n",
    "y_pred_last = np.copy(y_pred)"
   ]
  },
  {
   "cell_type": "code",
   "execution_count": 34,
   "metadata": {},
   "outputs": [],
   "source": [
    "model.compile(loss=['kld', 'mse'], loss_weights=[0.1, 1], optimizer=pretrain_optimizer)"
   ]
  },
  {
   "cell_type": "code",
   "execution_count": 44,
   "metadata": {},
   "outputs": [],
   "source": [
    "loss = 0\n",
    "index = 0\n",
    "maxiter = 8000\n",
    "update_interval = 140\n",
    "index_array = np.arange(x.shape[0])\n",
    "tol = 0.001 # tolerance threshold to stop training\n"
   ]
  },
  {
   "cell_type": "code",
   "execution_count": 45,
   "metadata": {},
   "outputs": [
    {
     "name": "stdout",
     "output_type": "stream",
     "text": [
      "Iter 0: acc = 0.35992, nmi = 0.05187, ari = 0.04329  ; loss= 0\n",
      "Iter 140: acc = 0.35531, nmi = 0.04712, ari = 0.03949  ; loss= [0.05444 0.0192  0.05252]\n",
      "Iter 280: acc = 0.35596, nmi = 0.04484, ari = 0.03893  ; loss= [0.05401 0.03414 0.05059]\n",
      "Iter 420: acc = 0.35625, nmi = 0.04117, ari = 0.03789  ; loss= [0.07023 0.10488 0.05974]\n",
      "Iter 560: acc = 0.35992, nmi = 0.04309, ari = 0.03993  ; loss= [0.0571  0.06487 0.05061]\n",
      "Iter 700: acc = 0.34869, nmi = 0.03633, ari = 0.03273  ; loss= [0.06637 0.0998  0.05639]\n",
      "Iter 840: acc = 0.34941, nmi = 0.03745, ari = 0.03378  ; loss= [0.05968 0.07527 0.05215]\n",
      "Iter 980: acc = 0.34999, nmi = 0.03861, ari = 0.03457  ; loss= [0.02828 0.10186 0.0181 ]\n",
      "Iter 1120: acc = 0.35006, nmi = 0.03882, ari = 0.03435  ; loss= [0.05069 0.06932 0.04376]\n",
      "Iter 1260: acc = 0.34905, nmi = 0.03818, ari = 0.03390  ; loss= [0.01583 0.06495 0.00933]\n",
      "Iter 1400: acc = 0.34826, nmi = 0.03787, ari = 0.03360  ; loss= [0.0557  0.06394 0.0493 ]\n",
      "Iter 1540: acc = 0.34876, nmi = 0.03813, ari = 0.03381  ; loss= [0.0126  0.06039 0.00656]\n",
      "Iter 1680: acc = 0.34869, nmi = 0.03797, ari = 0.03373  ; loss= [0.0499  0.05013 0.04489]\n",
      "Iter 1820: acc = 0.34891, nmi = 0.03800, ari = 0.03375  ; loss= [0.04786 0.04448 0.04341]\n",
      "delta_label  0.0004319032536711777 < tol  0.001\n",
      "Reached tolerance threshold. Stopping training.\n"
     ]
    }
   ],
   "source": [
    "for ite in range(int(maxiter)):\n",
    "    if ite % update_interval == 0:\n",
    "        q, _  = model.predict(x, verbose=0)\n",
    "        p = target_distribution(q)  # update the auxiliary target distribution p\n",
    "\n",
    "        # evaluate the clustering performance\n",
    "        y_pred = q.argmax(1)\n",
    "        if y is not None:\n",
    "            accu = np.round(metrics.acc(y, y_pred), 5)\n",
    "            nmi = np.round(metrics.nmi(y, y_pred), 5)\n",
    "            ari = np.round(metrics.ari(y, y_pred), 5)\n",
    "            loss = np.round(loss, 5)\n",
    "            print(\n",
    "                f\"Iter {ite}: acc = {accu:.5f}, \"\n",
    "                f\"nmi = {nmi:.5f}, ari = {ari:.5f}\"\n",
    "                f\" ; loss={loss}\")\n",
    "\n",
    "        # check stop criterion\n",
    "        delta_label = np.sum(y_pred != y_pred_last).astype(np.float32) / y_pred.shape[0]\n",
    "        y_pred_last = np.copy(y_pred)\n",
    "        if ite > 0 and delta_label < tol:\n",
    "            print('delta_label ', delta_label, '< tol ', tol)\n",
    "            print('Reached tolerance threshold. Stopping training.')\n",
    "            break\n",
    "    idx = index_array[index * batch_size: min((index+1) * batch_size, x.shape[0])]\n",
    "    loss = model.train_on_batch(x=x[idx], y=[p[idx], x[idx]])\n",
    "    index = index + 1 if (index + 1) * batch_size <= x.shape[0] else 0\n",
    "\n",
    "model.save_weights(save_dir + '/b_DEC_model_final.h5')"
   ]
  },
  {
   "cell_type": "markdown",
   "metadata": {},
   "source": [
    "### Load the clustering model trained weights"
   ]
  },
  {
   "cell_type": "code",
   "execution_count": 60,
   "metadata": {},
   "outputs": [],
   "source": [
    "model.load_weights(save_dir + '/b_DEC_model_final.h5')"
   ]
  },
  {
   "cell_type": "markdown",
   "metadata": {},
   "source": [
    "### Final Evaluation"
   ]
  },
  {
   "cell_type": "code",
   "execution_count": 46,
   "metadata": {},
   "outputs": [
    {
     "name": "stdout",
     "output_type": "stream",
     "text": [
      "Acc = 0.34891, nmi = 0.03800, ari = 0.03375  ; loss= [0.04786 0.04448 0.04341]\n"
     ]
    }
   ],
   "source": [
    "# Eval.\n",
    "q, _ = model.predict(x, verbose=0)\n",
    "p = target_distribution(q)  # update the auxiliary target distribution p\n",
    "\n",
    "# evaluate the clustering performance\n",
    "y_pred = q.argmax(1)\n",
    "if y is not None:\n",
    "    acc = np.round(metrics.acc(y, y_pred), 5)\n",
    "    nmi = np.round(metrics.nmi(y, y_pred), 5)\n",
    "    ari = np.round(metrics.ari(y, y_pred), 5)\n",
    "    loss = np.round(loss, 5)\n",
    "    print('Acc = %.5f, nmi = %.5f, ari = %.5f' % (acc, nmi, ari), ' ; loss=', loss)"
   ]
  },
  {
   "cell_type": "code",
   "execution_count": 62,
   "metadata": {},
   "outputs": [
    {
     "data": {
      "image/png": "[encoded data removed]",
      "text/plain": [
       "<Figure size 1152x1008 with 2 Axes>"
      ]
     },
     "metadata": {},
     "output_type": "display_data"
    }
   ],
   "source": [
    "import seaborn as sns\n",
    "import sklearn.metrics\n",
    "import matplotlib.pyplot as plt\n",
    "sns.set(font_scale=3)\n",
    "confusion_matrix = sklearn.metrics.confusion_matrix(y, y_pred)\n",
    "\n",
    "plt.figure(figsize=(16, 14))\n",
    "sns.heatmap(confusion_matrix, annot=True, fmt=\"d\", annot_kws={\"size\": 20});\n",
    "plt.title(\"Confusion matrix\", fontsize=30)\n",
    "plt.ylabel('True label', fontsize=25)\n",
    "plt.xlabel('Clustering label', fontsize=25)\n",
    "plt.show()"
   ]
  },
  {
   "cell_type": "code",
   "execution_count": null,
   "metadata": {},
   "outputs": [],
   "source": []
  }
 ],
 "metadata": {
  "kernelspec": {
   "display_name": "Python 3.9.12 ('tf-27')",
   "language": "python",
   "name": "python3"
  },
  "language_info": {
   "codemirror_mode": {
    "name": "ipython",
    "version": 3
   },
   "file_extension": ".py",
   "mimetype": "text/x-python",
   "name": "python",
   "nbconvert_exporter": "python",
   "pygments_lexer": "ipython3",
   "version": "3.9.12"
  },
  "vscode": {
   "interpreter": {
    "hash": "18e4ecf883516c2f5e8920d96ffc8522d588da1ae71a3f5d592afbc91cfc38c7"
   }
  }
 },
 "nbformat": 4,
 "nbformat_minor": 2
}
